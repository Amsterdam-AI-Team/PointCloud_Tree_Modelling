{
 "cells": [
  {
   "attachments": {},
   "cell_type": "markdown",
   "metadata": {},
   "source": [
    "# Stem Analysis\n",
    "\n",
    "This notebook provides code to analyse and explore point cloud tree stems. As input you can either use an already separated stem point cloud or use a complete tree and use the provided separation code (see `option B` in step 1)\n",
    "\n",
    "---------------"
   ]
  },
  {
   "attachments": {},
   "cell_type": "markdown",
   "metadata": {},
   "source": [
    "##### Imports"
   ]
  },
  {
   "cell_type": "code",
   "execution_count": null,
   "metadata": {},
   "outputs": [],
   "source": [
    "# Add project src to path.\n",
    "import set_path\n",
    "\n",
    "# Import modules.\n",
    "import os\n",
    "import numpy as np\n",
    "import open3d as o3d\n",
    "import logging as log\n",
    "import tree as tree_utils\n",
    "import utils.o3d_utils as o3d_utils\n",
    "import utils.plot_utils as plot_utils\n",
    "from labels import Labels"
   ]
  },
  {
   "attachments": {},
   "cell_type": "markdown",
   "metadata": {},
   "source": [
    "### 1. Load Data\n",
    "---"
   ]
  },
  {
   "attachments": {},
   "cell_type": "markdown",
   "metadata": {},
   "source": [
    "**Option A**: Load stem point cloud"
   ]
  },
  {
   "cell_type": "code",
   "execution_count": null,
   "metadata": {},
   "outputs": [],
   "source": [
    "stem_cloud = o3d_utils.read_las('../datasets/stem.las')"
   ]
  },
  {
   "attachments": {},
   "cell_type": "markdown",
   "metadata": {},
   "source": [
    "**Option B**: Load tree point cloud and separate using `src/tree.py`"
   ]
  },
  {
   "cell_type": "code",
   "execution_count": null,
   "metadata": {},
   "outputs": [],
   "source": [
    "adTree_exe = '../../AdTree-single/build/bin/AdTree.app/Contents/MacOS/AdTree'\n",
    "leaf_filtering_method = 'curvature'\n",
    "\n",
    "# Load point cloud data\n",
    "tree_cloud = o3d_utils.read_las('../datasets/single_selection/single_121913_487434_Cyclo.las')\n",
    "\n",
    "# Separate stem from tree\n",
    "stem_cloud, _ = tree_utils.tree_separate(tree_cloud, adTree_exe, filter_leaves=leaf_filtering_method)"
   ]
  },
  {
   "cell_type": "code",
   "execution_count": null,
   "metadata": {},
   "outputs": [],
   "source": [
    "o3d.visualization.draw_geometries([stem_cloud])"
   ]
  },
  {
   "attachments": {},
   "cell_type": "markdown",
   "metadata": {},
   "source": [
    "### 2. Stem Analysis\n",
    "---"
   ]
  },
  {
   "attachments": {},
   "cell_type": "markdown",
   "metadata": {},
   "source": [
    "**Fit cyclinders to stem**"
   ]
  },
  {
   "cell_type": "code",
   "execution_count": null,
   "metadata": {},
   "outputs": [],
   "source": [
    "stem_cylinders = tree_utils.fit_cylinders_to_stem(stem_cloud, .25)"
   ]
  },
  {
   "cell_type": "code",
   "execution_count": null,
   "metadata": {},
   "outputs": [],
   "source": [
    "# Visualise stem fit\n",
    "plot_utils.plot_stem_cylinders(stem_cylinders, resolution=25, cloud=stem_cloud)"
   ]
  },
  {
   "attachments": {},
   "cell_type": "markdown",
   "metadata": {},
   "source": [
    "**Circumerferential Completness Index (CCI)**\n",
    "\n",
    "CCI is simply the fraction of a circle with point coverage in a stem slice as illustrated below. This provides an indication of how complete your stem coverage is. In a single scan TLS point cloud, you cannot get a CCI greater than 0.5 (assuming the cylinder fitting was not erroneous), as only one side of the tree is mapped. If you have completely scanned the tree (at the measurement location), you should get a CCI of 1.0 (the highest possible CCI).\n",
    "\n",
    "![CCI.jpg](../imgs/CCI.jpg)\n",
    "\n",
    "The figure is from this paper: https://doi.org/10.3390/rs12101652 if you would like a more detailed explanation of the idea."
   ]
  },
  {
   "cell_type": "code",
   "execution_count": null,
   "metadata": {},
   "outputs": [],
   "source": [
    "stem_CCI = (np.min(stem_cylinders[:,4]), np.max(stem_cylinders[:,4]))\n",
    "print(f\" The minimal and maximal CCI of the scanned stem is {stem_CCI}\")"
   ]
  },
  {
   "attachments": {},
   "cell_type": "markdown",
   "metadata": {},
   "source": [
    "`Diameter at breast height` == 1.3 m"
   ]
  },
  {
   "attachments": {},
   "cell_type": "markdown",
   "metadata": {},
   "source": [
    "**Stem Angle**"
   ]
  },
  {
   "cell_type": "code",
   "execution_count": null,
   "metadata": {},
   "outputs": [],
   "source": [
    "stem_angle = tree_utils.stem_angle(stem_cylinders)\n",
    "print(f\"Stem angle is {stem_angle:.2f} degrees\")"
   ]
  },
  {
   "attachments": {},
   "cell_type": "markdown",
   "metadata": {},
   "source": [
    "**Stem Dimensions**"
   ]
  },
  {
   "cell_type": "code",
   "execution_count": null,
   "metadata": {},
   "outputs": [],
   "source": [
    "# estimate stem height\n",
    "stem_height = tree_utils.stem_height(stem_cloud)\n",
    "print(f\"Stem height is {stem_height:.2f}\")"
   ]
  },
  {
   "cell_type": "code",
   "execution_count": null,
   "metadata": {},
   "outputs": [],
   "source": [
    "stem_avg_circumference = 2*np.mean(stem_cylinders[:,3])*np.pi\n",
    "print(f\"Stem circumference is {stem_avg_circumference:.2f} m (average)\")\n",
    "\n",
    "# TODO: circumference at breast height"
   ]
  },
  {
   "cell_type": "code",
   "execution_count": null,
   "metadata": {},
   "outputs": [],
   "source": [
    "mesh = o3d_utils.mesh_from_cylinders(stem_cylinders, tree_utils.tree_colors['stem'])\n",
    "o3d_utils.plot_mesh(mesh)"
   ]
  },
  {
   "cell_type": "code",
   "execution_count": null,
   "metadata": {},
   "outputs": [],
   "source": []
  },
  {
   "attachments": {},
   "cell_type": "markdown",
   "metadata": {},
   "source": [
    "![stem_analysis.png](../imgs/stem_analysis.png)"
   ]
  }
 ],
 "metadata": {
  "kernelspec": {
   "display_name": "tree_env",
   "language": "python",
   "name": "tree_env"
  },
  "language_info": {
   "codemirror_mode": {
    "name": "ipython",
    "version": 3
   },
   "file_extension": ".py",
   "mimetype": "text/x-python",
   "name": "python",
   "nbconvert_exporter": "python",
   "pygments_lexer": "ipython3",
   "version": "3.10.7"
  },
  "orig_nbformat": 4,
  "vscode": {
   "interpreter": {
    "hash": "aee8b7b246df8f9039afb4144a1f6fd8d2ca17a180786b69acc140d282b71a49"
   }
  }
 },
 "nbformat": 4,
 "nbformat_minor": 2
}
