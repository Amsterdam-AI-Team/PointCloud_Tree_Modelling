{
 "cells": [
  {
   "cell_type": "markdown",
   "id": "c3fd9730-0dc5-4520-a485-b2445c984820",
   "metadata": {},
   "source": [
    "# Pointcloud 3D Tree Modelling\n",
    "\n",
    "This notebook tries to represent a tree in 3D using the deflt repo.\n",
    "\n",
    "---------------"
   ]
  },
  {
   "cell_type": "code",
   "execution_count": null,
   "id": "57f542f8-21bf-4382-bfb9-11b11b05802b",
   "metadata": {},
   "outputs": [],
   "source": [
    "# Uncomment to load the local package rather than the pip-installed version.\n",
    "# Add project src to path.\n",
    "import set_path"
   ]
  },
  {
   "cell_type": "code",
   "execution_count": null,
   "id": "8adb4173-257d-49f2-9b20-c5af54f642b5",
   "metadata": {},
   "outputs": [],
   "source": [
    "# Import modules.\n",
    "import os\n",
    "import time\n",
    "import trimesh\n",
    "import pymeshfix\n",
    "import subprocess\n",
    "import alphashape\n",
    "import numpy as np\n",
    "import open3d as o3d\n",
    "import logging as log\n",
    "import networkx as nx\n",
    "import matplotlib.pyplot as plt\n",
    "from scipy.spatial import KDTree\n",
    "from shapely.geometry import Polygon\n",
    "from scipy.spatial import ConvexHull\n",
    "from plyfile import PlyData, PlyElement\n",
    "\n",
    "import utils.math_utils as math_utils\n",
    "import utils.plot_utils as plot_utils\n",
    "import utils.las_utils as las_utils"
   ]
  },
  {
   "attachments": {},
   "cell_type": "markdown",
   "id": "cdff3b7d",
   "metadata": {},
   "source": [
    "## Datasets\n",
    "\n",
    "-------"
   ]
  },
  {
   "attachments": {},
   "cell_type": "markdown",
   "id": "c64005ea",
   "metadata": {},
   "source": [
    "#### AHN Reconstruction"
   ]
  },
  {
   "attachments": {},
   "cell_type": "markdown",
   "id": "9766cd8e",
   "metadata": {},
   "source": [
    "![AHN Reconstruction](../imgs/ahn_reconstruction.png)"
   ]
  },
  {
   "cell_type": "code",
   "execution_count": null,
   "id": "543f3d4c",
   "metadata": {},
   "outputs": [],
   "source": [
    "ahn_tree_path = '../datasets/single_selection/single_121913_487434_AHN.las'\n",
    "las_utils.read_las(ahn_tree_path)\n",
    "\n",
    "# TODO: python reconstruction implementation"
   ]
  },
  {
   "attachments": {},
   "cell_type": "markdown",
   "id": "fa51f4a2",
   "metadata": {},
   "source": [
    "#### Cyclo Reconstruction"
   ]
  },
  {
   "attachments": {},
   "cell_type": "markdown",
   "id": "58ca12fe",
   "metadata": {},
   "source": [
    "![Cyclo Media Reconstruction](../imgs/cyclo_reconstruction.png)"
   ]
  },
  {
   "cell_type": "code",
   "execution_count": null,
   "id": "2b0d9478",
   "metadata": {},
   "outputs": [],
   "source": [
    "cyclo_tree_path = '../datasets/single_selection/single_121913_487434_Cyclo.las'\n",
    "cyclo_pcd = las_utils.to_o3d(las_utils.read_las(cyclo_tree_path))\n",
    "cyclo_pcd = cyclo_pcd.voxel_down_sample(voxel_size=0.02)"
   ]
  },
  {
   "attachments": {},
   "cell_type": "markdown",
   "id": "31391764",
   "metadata": {},
   "source": [
    "#### Sonarski Reconstruction"
   ]
  },
  {
   "attachments": {},
   "cell_type": "markdown",
   "id": "e604fe96",
   "metadata": {},
   "source": [
    "![Sonarski Reconstruction](../imgs/sonarski_reconstruction.png)"
   ]
  },
  {
   "cell_type": "code",
   "execution_count": null,
   "id": "d7896719",
   "metadata": {},
   "outputs": [],
   "source": [
    "sonarski_tree_path = '../datasets/single_selection/single_121913_487434_Sonarski.las'\n",
    "las_utils.read_las(sonarski_tree_path)\n",
    "\n",
    "# TODO: python reconstruction implementation"
   ]
  },
  {
   "attachments": {},
   "cell_type": "markdown",
   "id": "ef14c2c6",
   "metadata": {},
   "source": [
    "## Modules\n",
    "\n",
    "--------"
   ]
  },
  {
   "attachments": {},
   "cell_type": "markdown",
   "id": "ab048e4b",
   "metadata": {},
   "source": [
    "#### 1. Leaf-Wood Filtering\n",
    "\n",
    "There are 2 filters.\n",
    "- `surface_variation_filter()`, filter based on the **surface variation** of a point. \n",
    "- `curvature_filter()`, filter based on the **curvature** of a point"
   ]
  },
  {
   "cell_type": "code",
   "execution_count": null,
   "id": "a5cf325d",
   "metadata": {},
   "outputs": [],
   "source": [
    "def surface_variation_filter(pcd, radius=0.05, threshold=.15):\n",
    "    pcd.estimate_covariances(\n",
    "        search_param=o3d.geometry.KDTreeSearchParamRadius(radius=radius))\n",
    "    eig_val, _ = np.linalg.eig(np.asarray(pcd.covariances))\n",
    "    eig_val = np.sort(eig_val, axis=1)\n",
    "\n",
    "    filter_mask = eig_val[:,0] / eig_val.sum(axis=1) < threshold\n",
    "\n",
    "    return filter_mask\n",
    "\n",
    "def curvature_filter(pcd, radius, min1=0, max1=100, min2=0, max2=100, min3=0, max3=100):\n",
    "\n",
    "    # estimate eigenvalues\n",
    "    pcd.estimate_covariances(\n",
    "        search_param=o3d.geometry.KDTreeSearchParamRadius(radius=radius))\n",
    "    eig_val, _ = np.linalg.eig(np.asarray(pcd.covariances))\n",
    "    eig_val = np.sort(eig_val, axis=1)\n",
    "    eig_val[eig_val[:,2]==1] = np.zeros(3)\n",
    "    L1, L2, L3 = eig_val[:,2], eig_val[:,1], eig_val[:,0]\n",
    "\n",
    "    # filter L1\n",
    "    filter_L1 = (L1 > L1.min() + (L1.max()-L1.min()) / 100 * min1) & \\\n",
    "        (L1 < L1.min() + (L1.max()-L1.min()) / 100 * max1)\n",
    "\n",
    "    # filter L2\n",
    "    filter_L2 = (L2 > L2.min() + (L2.max()-L2.min()) / 100 * min2) & \\\n",
    "        (L2 < L2.min() + (L2.max()-L2.min()) / 100 * max2)\n",
    "\n",
    "    # filter L3\n",
    "    filter_L3 = (L3 > L3.min() + (L3.max()-L3.min()) / 100 * min3) & \\\n",
    "        (L3 < L3.min() + (L3.max()-L3.min()) / 100 * max3)\n",
    "\n",
    "    L1 = (L1 - L1.min()) / ((L1.max()-L1.min()) / 100)\n",
    "    L2 = (L2 - L2.min()) / ((L2.max()-L2.min()) / 100)\n",
    "    L3 = (L3 - L3.min()) / ((L3.max()-L3.min()) / 100)\n",
    "\n",
    "\n",
    "    filter_mask = filter_L1 & filter_L2 & filter_L3\n",
    "    return filter_mask, (L1,L2,L3)\n",
    "\n",
    "def filter_leaves(pcd, surface=False):\n",
    "\n",
    "    pcd_, _ = pcd.remove_radius_outlier(nb_points=4, radius=.05)\n",
    "\n",
    "    if surface:\n",
    "        mask = surface_variation_filter(pcd_, .1, .15)\n",
    "    else:\n",
    "        mask, l123 = curvature_filter(pcd_, .05, min1=20, min2=35)\n",
    "\n",
    "    # Visualize result\n",
    "    wood_pcd = pcd_.select_by_index(np.where(mask)[0])\n",
    "    wood_pcd = wood_pcd.paint_uniform_color([.5,.3,0])\n",
    "    leaf_pcd = pcd_.select_by_index(np.where(mask)[0], invert=True)\n",
    "    leaf_pcd = leaf_pcd.paint_uniform_color([.8,1,.8])\n",
    "    o3d.visualization.draw_geometries([wood_pcd, leaf_pcd])\n",
    "\n",
    "    return wood_pcd, l123, pcd_\n"
   ]
  },
  {
   "cell_type": "code",
   "execution_count": null,
   "id": "6d02c0d1",
   "metadata": {},
   "outputs": [],
   "source": [
    "pcd = cyclo_pcd\n",
    "pcd_filtered, l123, pcd_ = filter_leaves(pcd, surface=False)\n",
    "print(len(pcd.points),'-->', len(pcd_filtered.points))"
   ]
  },
  {
   "cell_type": "code",
   "execution_count": null,
   "id": "8960c01a",
   "metadata": {},
   "outputs": [],
   "source": [
    "import laspy\n",
    "\n",
    "points = np.asarray(pcd_.points)\n",
    "\n",
    "las = laspy.create(file_version=\"1.2\", point_format=3)\n",
    "las.header.offsets = np.min(points, axis=0)\n",
    "las.x = points[:, 0]\n",
    "las.y = points[:, 1]\n",
    "las.z = points[:, 2]\n",
    "\n",
    "las.add_extra_dim(laspy.ExtraBytesParams(name=\"L1\", type=\"uint8\",description=\"L1\"))\n",
    "las.add_extra_dim(laspy.ExtraBytesParams(name=\"L2\", type=\"uint8\",description=\"L2\"))\n",
    "las.add_extra_dim(laspy.ExtraBytesParams(name=\"L3\", type=\"uint8\",description=\"L3\"))\n",
    "las.L1 = np.asarray(l123[0])\n",
    "las.L2 = np.asarray(l123[1])\n",
    "las.L3 = np.asarray(l123[2])\n",
    "las.write('test.las')"
   ]
  },
  {
   "attachments": {},
   "cell_type": "markdown",
   "id": "319b8209",
   "metadata": {},
   "source": [
    "#### 2. 3D-Reconstruction (AdTree)"
   ]
  },
  {
   "cell_type": "code",
   "execution_count": null,
   "id": "a284f9dd",
   "metadata": {},
   "outputs": [],
   "source": [
    "# adtree executable\n",
    "adtree_exe = '../../AdTree-single/build/bin/AdTree.app/Contents/MacOS/AdTree'"
   ]
  },
  {
   "cell_type": "code",
   "execution_count": null,
   "id": "baa8f8e4",
   "metadata": {},
   "outputs": [],
   "source": [
    "log.basicConfig(\n",
    "    level=log.INFO,\n",
    "    format=\"%(asctime)s [%(levelname)s] %(message)s\",\n",
    "    handlers=[\n",
    "        log.FileHandler(\"debug.log\"),\n",
    "        log.StreamHandler()\n",
    "    ]\n",
    ")\n",
    "\n",
    "def create_graph(vertices, edges):\n",
    "\n",
    "    graph = nx.DiGraph()\n",
    "\n",
    "    for i, vertex in enumerate(vertices):\n",
    "        graph.add_node(i, x=vertex[0],y=vertex[1],z=vertex[2])\n",
    "\n",
    "    for i,j in edges:\n",
    "        graph.add_edge(j, i)\n",
    "\n",
    "    return graph\n",
    "\n",
    "def _run_command(command):\n",
    "    log.info(\"Command: {}\".format(command))\n",
    "    result = subprocess.run(command, capture_output=True)\n",
    "    if result.stderr:\n",
    "        raise subprocess.CalledProcessError(\n",
    "                returncode = result.returncode,\n",
    "                cmd = result.args,\n",
    "                stderr = result.stderr\n",
    "                )\n",
    "    return result\n",
    "\n",
    "def reconstruct_tree(pcd, adtree_exe):\n",
    "    '''\n",
    "    Reconstructs the branches of a point coud tree.\n",
    "\n",
    "    pcd : open3d.geometry.PointCloud\n",
    "        input tree point cloud\n",
    "\n",
    "    adtree : str\n",
    "        path to adtree executable.\n",
    "\n",
    "    Returns:\n",
    "    ----------\n",
    "    PlyData file of the reconstructed input point cloud tree.\n",
    "    '''\n",
    "\n",
    "    skeleton_graph = nx.DiGraph()\n",
    "    vertices, edges = np.array([]), np.array([])\n",
    "\n",
    "    # create input file system\n",
    "    tmp_folder = './tmp'\n",
    "    in_file = os.path.join(tmp_folder, 'tree.xyz')\n",
    "    out_file = os.path.join(tmp_folder, 'tree_skeleton.ply')\n",
    "    if not os.path.exists(tmp_folder):\n",
    "        os.mkdir(tmp_folder)\n",
    "\n",
    "    try:    \n",
    "        log.info(\"Reconstructing...\") \n",
    "        o3d.io.write_point_cloud(in_file, pcd) # write input file\n",
    "        result = _run_command([adtree_exe, in_file, out_file]) # run reconstruction\n",
    "        plydata = PlyData.read(out_file) # read output\n",
    "\n",
    "        # Convert skeleton to graph\n",
    "        log.info(\"Done. Constructing graph...\")\n",
    "        vertices = np.array([[c for c in p] for p in plydata['vertex'].data])\n",
    "        vertices, reverse_ = np.unique(vertices, axis=0, return_inverse=True)\n",
    "        edges = np.array([reverse_[edge[0]] for edge in plydata['edge'].data])\n",
    "        skeleton_graph = create_graph(vertices, edges)\n",
    "        log.info(\"Done. Succesful.\")\n",
    "        \n",
    "    except subprocess.CalledProcessError as e:\n",
    "        log.error(\"Failed reconstructing tree:\\n{}\".format(e.stderr.decode('utf-8')))\n",
    "    except Exception as e:\n",
    "        log.error(\"Failed:\\n{}\".format(e))\n",
    "\n",
    "    # clean filesystem\n",
    "    if os.path.exists(in_file):\n",
    "        os.remove(in_file)\n",
    "    if os.path.exists(out_file):\n",
    "        os.remove(out_file)\n",
    "    if os.path.isdir(tmp_folder):\n",
    "        os.rmdir(tmp_folder)\n",
    "\n",
    "    return skeleton_graph, vertices, edges\n",
    "    "
   ]
  },
  {
   "cell_type": "code",
   "execution_count": null,
   "id": "aaf572c4",
   "metadata": {},
   "outputs": [],
   "source": [
    "skeleton, vertices, edges = reconstruct_tree(pcd_filtered, adtree_exe)\n",
    "# skeleton, vertices, edges = reconstruct_tree(pcd, adtree_exe)"
   ]
  },
  {
   "attachments": {},
   "cell_type": "markdown",
   "id": "6e4681fc",
   "metadata": {},
   "source": [
    "#### 3. Stem Split"
   ]
  },
  {
   "cell_type": "code",
   "execution_count": null,
   "id": "1313fb1a",
   "metadata": {},
   "outputs": [],
   "source": [
    "def plot_skeleton(vertices, edges):\n",
    "    # visulalize\n",
    "    colors = [[1, 0, 0] for i in range(len(edges))]\n",
    "    line_set = o3d.geometry.LineSet()\n",
    "    line_set.points = o3d.utility.Vector3dVector(vertices)\n",
    "    line_set.lines = o3d.utility.Vector2iVector(edges)\n",
    "    line_set.colors = o3d.utility.Vector3dVector(colors)\n",
    "\n",
    "    # colors = [[0, 0, 0] for i in range(len(edges_sel))]\n",
    "    # line_set_sel = o3d.geometry.LineSet()\n",
    "    # line_set_sel.points = o3d.utility.Vector3dVector(vertices)\n",
    "    # line_set_sel.lines = o3d.utility.Vector2iVector(edges_sel)\n",
    "    # line_set_sel.colors = o3d.utility.Vector3dVector(colors)\n",
    "\n",
    "    v_pcd = o3d.geometry.PointCloud(o3d.utility.Vector3dVector(vertices))\n",
    "    v_pcd = v_pcd.paint_uniform_color([0,0.5,0])\n",
    "    o3d.visualization.draw_geometries([line_set, v_pcd])\n",
    "\n",
    "def branch_path(graph, start):\n",
    "\n",
    "    path = [start]\n",
    "    while graph.out_degree(path[-1]) == 1:\n",
    "        for node in graph.successors(path[-1]):\n",
    "            path.append(node)\n",
    "            break\n",
    "\n",
    "    print(path[0], '-->', path[-1], '(nodes:',len(path),')')\n",
    "    return path\n",
    "\n",
    "def get_stem(skeleton, pcd):\n",
    "    '''\n",
    "    Returns the stem of a point cloud given the skeleton. \n",
    "    The Stem is the part of the tree till the first branch split\n",
    "    \n",
    "    Params\n",
    "    -----------\n",
    "    skeleton : NetworkX Graph\n",
    "        The tree skeleton\n",
    "    pcd : o3d.geometry.PointCloud\n",
    "        The point cloud of the tree\n",
    "\n",
    "    Returns\n",
    "    -----------\n",
    "    A open3d point cloud of the stem of the given tree\n",
    "    '''\n",
    "\n",
    "    # get start node\n",
    "    zs = nx.get_node_attributes(skeleton, 'z')\n",
    "    start_node = min(zs, key=zs.get)\n",
    "\n",
    "    # get path till first split\n",
    "    stem_path = branch_path(skeleton, start_node)\n",
    "    stem_points = np.array([list(skeleton.nodes[node].values()) for node in stem_path])\n",
    "\n",
    "    # Create tree points\n",
    "    tree_points = np.array(pcd.points)\n",
    "    mask_idx = np.where(tree_points[:,2] < stem_points[:,2].max())[0]\n",
    "    tree = KDTree(tree_points[mask_idx])\n",
    "\n",
    "    # Filter tree points\n",
    "    selection = set()\n",
    "    num_ = int(np.linalg.norm(stem_points[1]-stem_points[0]) / 0.05)\n",
    "    stem_points = np.linspace(start=stem_points[0], stop=stem_points[1], num=num_)\n",
    "    for result in tree.query_ball_point(stem_points, .75):\n",
    "        selection.update(result) \n",
    "    selection = mask_idx[list(selection)]\n",
    "\n",
    "    # Visualize\n",
    "    stem_pcd = pcd.select_by_index(selection)\n",
    "    stem_pcd = stem_pcd.paint_uniform_color([.4,.7,0])\n",
    "    crown_pcd = pcd.select_by_index(selection, invert=True)\n",
    "    o3d.visualization.draw_geometries([stem_pcd, crown_pcd])\n",
    "\n",
    "    return stem_pcd, crown_pcd\n"
   ]
  },
  {
   "cell_type": "code",
   "execution_count": null,
   "id": "7cc41478",
   "metadata": {},
   "outputs": [],
   "source": [
    "stem_pcd, crown_pcd = get_stem(skeleton, pcd)"
   ]
  },
  {
   "cell_type": "code",
   "execution_count": null,
   "id": "556fe905",
   "metadata": {},
   "outputs": [],
   "source": [
    "plot_skeleton(vertices, edges)"
   ]
  },
  {
   "attachments": {},
   "cell_type": "markdown",
   "id": "c87332f1",
   "metadata": {},
   "source": [
    "#### 4. Stem Analysis"
   ]
  },
  {
   "cell_type": "code",
   "execution_count": null,
   "id": "2ecfdab3",
   "metadata": {},
   "outputs": [],
   "source": [
    "# Fittings"
   ]
  },
  {
   "attachments": {},
   "cell_type": "markdown",
   "id": "338b1a4b",
   "metadata": {},
   "source": [
    "#### 5. Crown Analysis"
   ]
  },
  {
   "cell_type": "code",
   "execution_count": null,
   "id": "4c4bd738",
   "metadata": {},
   "outputs": [],
   "source": [
    "def pcd_convex_hull(pcd, plot=True):\n",
    "    log.info(f'Convex Hull for pcd with {len(pcd.points)} points.')\n",
    "    o3d_mesh, _ = pcd.compute_convex_hull()\n",
    "    log.info(f'Done. Crown volume: {o3d_mesh.get_volume():.2f}m3')\n",
    "    \n",
    "    if plot: # Visualize\n",
    "        fig = plt.figure()\n",
    "        ax = plt.axes(projection='3d')\n",
    "        ax.plot_trisurf(*zip(*o3d_mesh.vertices), triangles=o3d_mesh.triangles)\n",
    "        plt.show()\n",
    "\n",
    "    return o3d_mesh\n",
    "\n",
    "def alpha_shape(pcd, alpha=.8, plot=True):\n",
    "    log.info(f'Alpha Shapes for pcd with {len(pcd.points)} points.')\n",
    "    start = time.time()\n",
    "    pcd_pts = np.asarray(pcd.points)\n",
    "    mesh = alphashape.alphashape(pcd_pts, alpha)\n",
    "    log.info(f'Done. {time.time()-start:.2f}s.')\n",
    "    \n",
    "    # Repair\n",
    "    log.info(f'Repair broken faces...')\n",
    "    clean_points, clean_faces = pymeshfix.clean_from_arrays(mesh.vertices,  mesh.faces)\n",
    "    mesh = trimesh.base.Trimesh(clean_points, clean_faces)\n",
    "    mesh.fix_normals()\n",
    "    log.info(f'Done. Crown volume: {mesh.volume:.2f}m3')\n",
    "    \n",
    "    if plot: # Visualize\n",
    "        fig = plt.figure()\n",
    "        ax = plt.axes(projection='3d')\n",
    "        ax.plot_trisurf(*zip(*mesh.vertices), triangles=mesh.faces)\n",
    "        plt.show()\n",
    "\n",
    "    # convert\n",
    "    o3d_mesh = mesh.as_open3d\n",
    "    o3d_mesh.compute_vertex_normals()\n",
    "\n",
    "    return o3d_mesh\n",
    "\n",
    "def plot_meshlines(pcds, mesh):\n",
    "    mesh_lines = o3d.geometry.LineSet.create_from_triangle_mesh(mesh)\n",
    "    mesh_lines.paint_uniform_color((1, 0, 0))\n",
    "    geometries = pcds + [mesh_lines]\n",
    "    o3d.visualization.draw_geometries(geometries)\n"
   ]
  },
  {
   "cell_type": "code",
   "execution_count": null,
   "id": "0eb45f9b",
   "metadata": {},
   "outputs": [],
   "source": [
    "voxel_size = 0.3\n",
    "\n",
    "# Down sample crown\n",
    "crown_sampled = crown_pcd.voxel_down_sample(voxel_size)"
   ]
  },
  {
   "cell_type": "code",
   "execution_count": null,
   "id": "c39604d7",
   "metadata": {},
   "outputs": [],
   "source": [
    "mesh = pcd_convex_hull(crown_sampled)"
   ]
  },
  {
   "cell_type": "code",
   "execution_count": null,
   "id": "75e5b3f4",
   "metadata": {},
   "outputs": [],
   "source": [
    "mesh = alpha_shape(crown_sampled)"
   ]
  },
  {
   "cell_type": "code",
   "execution_count": null,
   "id": "d90a6663",
   "metadata": {},
   "outputs": [],
   "source": [
    "plot_meshlines([stem_pcd, crown_pcd], mesh)"
   ]
  },
  {
   "attachments": {},
   "cell_type": "markdown",
   "id": "3ed83b60",
   "metadata": {},
   "source": [
    "## Overig\n",
    "\n",
    "---------"
   ]
  },
  {
   "cell_type": "code",
   "execution_count": null,
   "id": "265a5ef0",
   "metadata": {},
   "outputs": [],
   "source": [
    "# Stam doet gek..."
   ]
  },
  {
   "cell_type": "code",
   "execution_count": null,
   "id": "3f9b5ed1",
   "metadata": {},
   "outputs": [],
   "source": [
    "skim = o3d.geometry.PointCloud(o3d.utility.Vector3dVector(vertices[leaf_nodes]))\n",
    "o3d.visualization.draw_geometries([skim])"
   ]
  },
  {
   "cell_type": "code",
   "execution_count": null,
   "id": "b0434567",
   "metadata": {},
   "outputs": [],
   "source": [
    "skeleton_sel = skeleton.subgraph([node for node, n in skeleton.out_degree() if n != 0])\n",
    "edges_sel = np.array([(i,j) for i,j in skeleton_sel.edges])\n",
    "plot_skeleton(vertices, edges, edges_sel)"
   ]
  }
 ],
 "metadata": {
  "kernelspec": {
   "display_name": "tree_env",
   "language": "python",
   "name": "tree_env"
  },
  "language_info": {
   "codemirror_mode": {
    "name": "ipython",
    "version": 3
   },
   "file_extension": ".py",
   "mimetype": "text/x-python",
   "name": "python",
   "nbconvert_exporter": "python",
   "pygments_lexer": "ipython3",
   "version": "3.10.7"
  }
 },
 "nbformat": 4,
 "nbformat_minor": 5
}
