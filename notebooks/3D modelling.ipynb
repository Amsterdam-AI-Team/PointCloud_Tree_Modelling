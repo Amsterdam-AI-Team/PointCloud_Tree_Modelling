{
 "cells": [
  {
   "cell_type": "markdown",
   "id": "c3fd9730-0dc5-4520-a485-b2445c984820",
   "metadata": {},
   "source": [
    "# Pointcloud 3D Tree Modelling\n",
    "\n",
    "This notebook tries to represent a tree in 3D using the deflt repo.\n",
    "\n",
    "---------------"
   ]
  },
  {
   "cell_type": "code",
   "execution_count": 1,
   "id": "57f542f8-21bf-4382-bfb9-11b11b05802b",
   "metadata": {},
   "outputs": [],
   "source": [
    "# Uncomment to load the local package rather than the pip-installed version.\n",
    "# Add project src to path.\n",
    "import set_path"
   ]
  },
  {
   "cell_type": "code",
   "execution_count": 2,
   "id": "8adb4173-257d-49f2-9b20-c5af54f642b5",
   "metadata": {},
   "outputs": [],
   "source": [
    "# Import modules.\n",
    "import numpy as np\n",
    "import open3d as o3d\n",
    "import matplotlib.pyplot as plt\n",
    "from shapely.geometry import Polygon\n",
    "from scipy.spatial import ConvexHull\n",
    "\n",
    "import utils.math_utils as math_utils\n",
    "import utils.plot_utils as plot_utils\n",
    "import utils.las_utils as las_utils"
   ]
  },
  {
   "cell_type": "markdown",
   "id": "cdff3b7d",
   "metadata": {},
   "source": [
    "## Datasets"
   ]
  },
  {
   "cell_type": "markdown",
   "id": "c64005ea",
   "metadata": {},
   "source": [
    "#### AHN Reconstruction\n",
    "![AHN Reconstruction](../imgs/ahn_reconstruction.png)"
   ]
  },
  {
   "cell_type": "code",
   "execution_count": null,
   "id": "543f3d4c",
   "metadata": {},
   "outputs": [],
   "source": [
    "ahn_tree_path = '../datasets/single_selection/single_121913_487434_AHN.las'\n",
    "las_utils.read_las(ahn_tree_path)\n",
    "\n",
    "# TODO: python reconstruction implementation"
   ]
  },
  {
   "cell_type": "markdown",
   "id": "fa51f4a2",
   "metadata": {},
   "source": [
    "#### Cyclo Reconstruction\n",
    "![Cyclo Media Reconstruction](../imgs/cyclo_reconstruction.png)"
   ]
  },
  {
   "cell_type": "code",
   "execution_count": null,
   "id": "2b0d9478",
   "metadata": {},
   "outputs": [],
   "source": [
    "cyclo_tree_path = '../datasets/single_selection/single_121913_487434_Cyclo.las'\n",
    "las_utils.read_las(cyclo_tree_path)\n",
    "\n",
    "# TODO: python reconstruction implementation"
   ]
  },
  {
   "cell_type": "markdown",
   "id": "31391764",
   "metadata": {},
   "source": [
    "#### Sonarski Reconstruction\n",
    "![Sonarski Reconstruction](../imgs/sonarski_reconstruction.png)"
   ]
  },
  {
   "cell_type": "code",
   "execution_count": null,
   "id": "d7896719",
   "metadata": {},
   "outputs": [],
   "source": [
    "sonarski_tree_path = '../datasets/single_selection/single_121913_487434_Sonarski.las'\n",
    "las_utils.read_las(sonarski_tree_path)\n",
    "\n",
    "# TODO: python reconstruction implementation"
   ]
  }
 ],
 "metadata": {
  "kernelspec": {
   "display_name": "tree_env",
   "language": "python",
   "name": "tree_env"
  },
  "language_info": {
   "codemirror_mode": {
    "name": "ipython",
    "version": 3
   },
   "file_extension": ".py",
   "mimetype": "text/x-python",
   "name": "python",
   "nbconvert_exporter": "python",
   "pygments_lexer": "ipython3",
   "version": "3.10.7"
  }
 },
 "nbformat": 4,
 "nbformat_minor": 5
}
