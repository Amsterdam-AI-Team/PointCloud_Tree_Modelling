{
 "cells": [
  {
   "cell_type": "markdown",
   "id": "c3fd9730-0dc5-4520-a485-b2445c984820",
   "metadata": {},
   "source": [
    "# Pointcloud 3D Tree Modelling\n",
    "\n",
    "This notebook tries to represent a tree in 3D using the deflt repo.\n",
    "\n",
    "---------------"
   ]
  },
  {
   "cell_type": "code",
   "execution_count": null,
   "id": "57f542f8-21bf-4382-bfb9-11b11b05802b",
   "metadata": {},
   "outputs": [],
   "source": [
    "# Uncomment to load the local package rather than the pip-installed version.\n",
    "# Add project src to path.\n",
    "import set_path"
   ]
  },
  {
   "cell_type": "code",
   "execution_count": null,
   "id": "8adb4173-257d-49f2-9b20-c5af54f642b5",
   "metadata": {},
   "outputs": [],
   "source": [
    "# Import modules.\n",
    "import os\n",
    "import subprocess\n",
    "import numpy as np\n",
    "import open3d as o3d\n",
    "import logging as log\n",
    "import networkx as nx\n",
    "import matplotlib.pyplot as plt\n",
    "from scipy.spatial import KDTree\n",
    "from shapely.geometry import Polygon\n",
    "from scipy.spatial import ConvexHull\n",
    "from plyfile import PlyData, PlyElement\n",
    "\n",
    "import utils.math_utils as math_utils\n",
    "import utils.plot_utils as plot_utils\n",
    "import utils.las_utils as las_utils"
   ]
  },
  {
   "cell_type": "markdown",
   "id": "cdff3b7d",
   "metadata": {},
   "source": [
    "## Datasets"
   ]
  },
  {
   "attachments": {},
   "cell_type": "markdown",
   "id": "c64005ea",
   "metadata": {},
   "source": [
    "#### AHN Reconstruction"
   ]
  },
  {
   "attachments": {},
   "cell_type": "markdown",
   "id": "9766cd8e",
   "metadata": {},
   "source": [
    "![AHN Reconstruction](../imgs/ahn_reconstruction.png)"
   ]
  },
  {
   "cell_type": "code",
   "execution_count": null,
   "id": "543f3d4c",
   "metadata": {},
   "outputs": [],
   "source": [
    "ahn_tree_path = '../datasets/single_selection/single_121913_487434_AHN.las'\n",
    "las_utils.read_las(ahn_tree_path)\n",
    "\n",
    "# TODO: python reconstruction implementation"
   ]
  },
  {
   "attachments": {},
   "cell_type": "markdown",
   "id": "fa51f4a2",
   "metadata": {},
   "source": [
    "#### Cyclo Reconstruction"
   ]
  },
  {
   "attachments": {},
   "cell_type": "markdown",
   "id": "58ca12fe",
   "metadata": {},
   "source": [
    "![Cyclo Media Reconstruction](../imgs/cyclo_reconstruction.png)"
   ]
  },
  {
   "cell_type": "code",
   "execution_count": null,
   "id": "2b0d9478",
   "metadata": {},
   "outputs": [],
   "source": [
    "cyclo_tree_path = '../datasets/single_selection/single_121913_487434_Cyclo.las'\n",
    "cyclo_pcd = las_utils.to_o3d(las_utils.read_las(cyclo_tree_path))"
   ]
  },
  {
   "attachments": {},
   "cell_type": "markdown",
   "id": "31391764",
   "metadata": {},
   "source": [
    "#### Sonarski Reconstruction"
   ]
  },
  {
   "attachments": {},
   "cell_type": "markdown",
   "id": "e604fe96",
   "metadata": {},
   "source": [
    "![Sonarski Reconstruction](../imgs/sonarski_reconstruction.png)"
   ]
  },
  {
   "cell_type": "code",
   "execution_count": null,
   "id": "d7896719",
   "metadata": {},
   "outputs": [],
   "source": [
    "sonarski_tree_path = '../datasets/single_selection/single_121913_487434_Sonarski.las'\n",
    "las_utils.read_las(sonarski_tree_path)\n",
    "\n",
    "# TODO: python reconstruction implementation"
   ]
  },
  {
   "attachments": {},
   "cell_type": "markdown",
   "id": "ef14c2c6",
   "metadata": {},
   "source": [
    "#### Leaf-Wood Filtering\n",
    "\n",
    "There are 2 filters.\n",
    "- `surface_variation_filter()`, filter based on the **surface variation** of a point. \n",
    "- `curvature_filter()`, filter based on the **curvature** of a point"
   ]
  },
  {
   "cell_type": "code",
   "execution_count": null,
   "id": "a5cf325d",
   "metadata": {},
   "outputs": [],
   "source": [
    "def surface_variation_filter(pcd, radius=0.1, threshold=.2):\n",
    "    pcd.estimate_covariances(\n",
    "        search_param=o3d.geometry.KDTreeSearchParamRadius(radius=radius))\n",
    "    eig_val, _ = np.linalg.eig(np.asarray(pcd.covariances))\n",
    "    eig_val = np.sort(eig_val, axis=1)\n",
    "\n",
    "    filter_mask = eig_val[:,0] / eig_val.sum(axis=1) < threshold\n",
    "\n",
    "    return filter_mask\n",
    "\n",
    "def curvature_filter(pcd, radius, min1=15, max1=75, min2=0, max2=100, min3=0, max3=30):\n",
    "\n",
    "    # estimate eigenvalues\n",
    "    pcd.estimate_covariances(\n",
    "        search_param=o3d.geometry.KDTreeSearchParamRadius(radius=radius))\n",
    "    eig_val, _ = np.linalg.eig(np.asarray(pcd.covariances))\n",
    "    eig_val = np.sort(eig_val, axis=1)\n",
    "    eig_val[eig_val[:,2]==1] = np.zeros(3)\n",
    "    L1, L2, L3 = eig_val[:,2], eig_val[:,1], eig_val[:,0]\n",
    "\n",
    "    # filter L1\n",
    "    filter_L1 = (L1 > L1.min() + (L1.max()-L1.min()) / 100 * min1) & \\\n",
    "        (L1 < L1.min() + (L1.max()-L1.min()) / 100 * max1)\n",
    "\n",
    "    # filter L2\n",
    "    filter_L2 = (L2 > L2.min() + (L2.max()-L2.min()) / 100 * min2) & \\\n",
    "        (L2 < L2.min() + (L2.max()-L2.min()) / 100 * max2)\n",
    "\n",
    "    # filter L3\n",
    "    filter_L3 = (L3 > L3.min() + (L3.max()-L3.min()) / 100 * min3) & \\\n",
    "        (L3 < L3.min() + (L3.max()-L3.min()) / 100 * max3)\n",
    "\n",
    "\n",
    "    filter_mask = filter_L1 & filter_L2 & filter_L3\n",
    "    return filter_mask\n",
    "\n",
    "def filter_leaves(pcd, surface=False):\n",
    "\n",
    "    if surface:\n",
    "        mask = surface_variation_filter(pcd, .05, .2)\n",
    "    else:\n",
    "        mask = curvature_filter(pcd, .1, min1=15, max1=50, max3=30)\n",
    "\n",
    "    # Visualize result\n",
    "    wood_pcd = cyclo_pcd.select_by_index(np.where(mask)[0])\n",
    "    wood_pcd = wood_pcd.paint_uniform_color([.5,.3,0])\n",
    "    leaf_pcd = cyclo_pcd.select_by_index(np.where(mask)[0], invert=True)\n",
    "    leaf_pcd = leaf_pcd.paint_uniform_color([.8,1,.8])\n",
    "    o3d.visualization.draw_geometries([wood_pcd, leaf_pcd])\n",
    "\n",
    "    return wood_pcd\n"
   ]
  },
  {
   "cell_type": "code",
   "execution_count": null,
   "id": "6d02c0d1",
   "metadata": {},
   "outputs": [],
   "source": [
    "pcd = cyclo_pcd\n",
    "pcd_filtered = filter_leaves(pcd)"
   ]
  },
  {
   "attachments": {},
   "cell_type": "markdown",
   "id": "319b8209",
   "metadata": {},
   "source": [
    "#### Reconstruction"
   ]
  },
  {
   "cell_type": "code",
   "execution_count": null,
   "id": "a284f9dd",
   "metadata": {},
   "outputs": [],
   "source": [
    "# adtree executable\n",
    "adtree_exe = '../../AdTree-single/build/bin/AdTree.app/Contents/MacOS/AdTree'"
   ]
  },
  {
   "cell_type": "code",
   "execution_count": null,
   "id": "baa8f8e4",
   "metadata": {},
   "outputs": [],
   "source": [
    "log.basicConfig(\n",
    "    level=log.INFO,\n",
    "    format=\"%(asctime)s [%(levelname)s] %(message)s\",\n",
    "    handlers=[\n",
    "        log.FileHandler(\"debug.log\"),\n",
    "        log.StreamHandler()\n",
    "    ]\n",
    ")\n",
    "\n",
    "def create_graph(vertices, edges):\n",
    "\n",
    "    graph = nx.DiGraph()\n",
    "\n",
    "    for i, vertex in enumerate(vertices):\n",
    "        graph.add_node(i, x=vertex[0],y=vertex[1],z=vertex[2])\n",
    "\n",
    "    for i,j in edges:\n",
    "        graph.add_edge(j, i)\n",
    "\n",
    "    return graph\n",
    "\n",
    "def _run_command(command):\n",
    "    log.info(\"Command: {}\".format(command))\n",
    "    result = subprocess.run(command, capture_output=True)\n",
    "    if result.stderr:\n",
    "        raise subprocess.CalledProcessError(\n",
    "                returncode = result.returncode,\n",
    "                cmd = result.args,\n",
    "                stderr = result.stderr\n",
    "                )\n",
    "    return result\n",
    "\n",
    "def reconstruct_tree(pcd, adtree_exe):\n",
    "    '''\n",
    "    Reconstructs the branches of a point coud tree.\n",
    "\n",
    "    pcd : open3d.geometry.PointCloud\n",
    "        input tree point cloud\n",
    "\n",
    "    adtree : str\n",
    "        path to adtree executable.\n",
    "\n",
    "    Returns:\n",
    "    ----------\n",
    "    PlyData file of the reconstructed input point cloud tree.\n",
    "    '''\n",
    "\n",
    "    skeleton_graph = nx.DiGraph()\n",
    "    vertices, edges = np.array([]), np.array([])\n",
    "\n",
    "    # create input file system\n",
    "    tmp_folder = './tmp'\n",
    "    in_file = os.path.join(tmp_folder, 'tree.xyz')\n",
    "    out_file = os.path.join(tmp_folder, 'tree_skeleton.ply')\n",
    "    if not os.path.exists(tmp_folder):\n",
    "        os.mkdir(tmp_folder)\n",
    "\n",
    "    try:    \n",
    "        log.info(\"Reconstructing...\") \n",
    "        o3d.io.write_point_cloud(in_file, pcd) # write input file\n",
    "        result = _run_command([adtree_exe, in_file, out_file]) # run reconstruction\n",
    "        plydata = PlyData.read(out_file) # read output\n",
    "\n",
    "        # Convert skeleton to graph\n",
    "        log.info(\"Done. Constructing graph...\")\n",
    "        vertices = np.array([[c for c in p] for p in plydata['vertex'].data])\n",
    "        vertices, reverse_ = np.unique(vertices, axis=0, return_inverse=True)\n",
    "        edges = np.array([reverse_[edge[0]] for edge in plydata['edge'].data])\n",
    "        skeleton_graph = create_graph(vertices, edges)\n",
    "        log.info(\"Done. Succesful.\")\n",
    "        \n",
    "    except subprocess.CalledProcessError as e:\n",
    "        log.error(\"Failed reconstructing tree:\\n{}\".format(e.stderr.decode('utf-8')))\n",
    "    except Exception as e:\n",
    "        log.error(\"Failed:\\n{}\".format(e))\n",
    "\n",
    "    # clean filesystem\n",
    "    if os.path.exists(in_file):\n",
    "        os.remove(in_file)\n",
    "    if os.path.exists(out_file):\n",
    "        os.remove(out_file)\n",
    "    if os.path.isdir(tmp_folder):\n",
    "        os.rmdir(tmp_folder)\n",
    "\n",
    "    return skeleton_graph, vertices, edges\n",
    "\n",
    "def plot_skeleton(vertices, edges):\n",
    "    # visulalize\n",
    "    colors = [[0, 0, 0] for i in range(len(edges))]\n",
    "    line_set = o3d.geometry.LineSet()\n",
    "    line_set.points = o3d.utility.Vector3dVector(vertices)\n",
    "    line_set.lines = o3d.utility.Vector2iVector(edges)\n",
    "    line_set.colors = o3d.utility.Vector3dVector(colors)\n",
    "    o3d.visualization.draw_geometries([line_set])\n",
    "\n",
    "def branch_path(graph, start):\n",
    "\n",
    "    path = [start]\n",
    "    while graph.out_degree(path[-1]) == 1:\n",
    "        for node in graph.successors(path[-1]):\n",
    "            path.append(node)\n",
    "            break\n",
    "\n",
    "    print(path[0], '-->', path[-1], '(nodes:',len(path),')')\n",
    "    return path\n"
   ]
  },
  {
   "cell_type": "code",
   "execution_count": null,
   "id": "aaf572c4",
   "metadata": {},
   "outputs": [],
   "source": [
    "skeleton, vertices, edges = reconstruct_tree(pcd_filtered, adtree_exe)"
   ]
  },
  {
   "cell_type": "code",
   "execution_count": null,
   "id": "556fe905",
   "metadata": {},
   "outputs": [],
   "source": [
    "plot_skeleton(vertices, edges)"
   ]
  },
  {
   "cell_type": "code",
   "execution_count": null,
   "id": "f0f0d93c",
   "metadata": {},
   "outputs": [],
   "source": [
    "# Get Tree Stem\n",
    "\n",
    "# Get skeleton till first branch\n",
    "start = np.argmin(vertices[:,2])\n",
    "stem_path = branch_path(skeleton, start)\n",
    "skeleton_points = vertices[stem_path]\n",
    "\n",
    "# Create tree points\n",
    "tree_points = np.array(pcd.points)\n",
    "mask_idx = np.where(tree_points[:,2] < skeleton_points[:,2].max())[0]\n",
    "tree = KDTree(tree_points[mask_idx])\n",
    "\n",
    "# Filter tree points\n",
    "stem_points_idx = set()\n",
    "num_ = int(np.linalg.norm(skeleton_points[1]-skeleton_points[0]) / 0.05)\n",
    "stem_points = np.linspace(start=skeleton_points[0], stop=skeleton_points[1], num=num_)\n",
    "for result in tree.query_ball_point(stem_points, .75):\n",
    "    stem_points_idx.update(result) \n",
    "stem_points_idx = mask_idx[list(stem_points_idx)]\n",
    "\n",
    "# Visualize\n",
    "stem_pcd = pcd.select_by_index(stem_points_idx)\n",
    "stem_pcd = stem_pcd.paint_uniform_color([.4,.7,0])\n",
    "noise_pcd = pcd.select_by_index(stem_points_idx, invert=True)\n",
    "o3d.visualization.draw_geometries([stem_pcd, noise_pcd])"
   ]
  }
 ],
 "metadata": {
  "kernelspec": {
   "display_name": "tree_env",
   "language": "python",
   "name": "tree_env"
  },
  "language_info": {
   "codemirror_mode": {
    "name": "ipython",
    "version": 3
   },
   "file_extension": ".py",
   "mimetype": "text/x-python",
   "name": "python",
   "nbconvert_exporter": "python",
   "pygments_lexer": "ipython3",
   "version": "3.10.7 (main, Sep 15 2022, 01:50:27) [Clang 12.0.0 (clang-1200.0.32.29)]"
  }
 },
 "nbformat": 4,
 "nbformat_minor": 5
}
