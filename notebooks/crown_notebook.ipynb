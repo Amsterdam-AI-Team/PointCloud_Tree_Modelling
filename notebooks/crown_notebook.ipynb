{
 "cells": [
  {
   "attachments": {},
   "cell_type": "markdown",
   "metadata": {},
   "source": [
    "# Crown\n",
    "\n",
    "This notebook that analysis the Crown.\n",
    "\n",
    "---------------"
   ]
  },
  {
   "attachments": {},
   "cell_type": "markdown",
   "metadata": {},
   "source": [
    "##### Imports"
   ]
  },
  {
   "cell_type": "code",
   "execution_count": null,
   "metadata": {},
   "outputs": [],
   "source": [
    "# Uncomment to load the local package rather than the pip-installed version.\n",
    "# Add project src to path.\n",
    "import set_path"
   ]
  },
  {
   "cell_type": "code",
   "execution_count": null,
   "metadata": {},
   "outputs": [],
   "source": [
    "# Import modules.\n",
    "import os\n",
    "import math\n",
    "import time\n",
    "import trimesh\n",
    "import shapely\n",
    "import pymeshfix\n",
    "import subprocess\n",
    "import alphashape\n",
    "import numpy as np\n",
    "import open3d as o3d\n",
    "import logging as log\n",
    "import networkx as nx\n",
    "import matplotlib.pyplot as plt\n",
    "from tqdm import tqdm\n",
    "from scipy.spatial import KDTree\n",
    "from descartes import PolygonPatch\n",
    "from shapely.geometry import Polygon\n",
    "from scipy.spatial import ConvexHull\n",
    "from plyfile import PlyData, PlyElement\n",
    "from skimage.measure import CircleModel, ransac\n",
    "from sklearn.neighbors import NearestNeighbors\n",
    "import utils.math_utils as math_utils\n",
    "import utils.plot_utils as plot_utils\n",
    "import utils.o3d_utils as o3d_utils\n",
    "from misc.quaternion import Quaternion"
   ]
  },
  {
   "cell_type": "code",
   "execution_count": null,
   "metadata": {},
   "outputs": [],
   "source": [
    "LEAF_GREEN = [0,0.78,0]\n",
    "\n",
    "class Crown:\n",
    "    \"\"\" This class implements the AdTree delft repository.\n",
    "    Attributes:\n",
    "        ---\n",
    "    \"\"\"\n",
    "\n",
    "    def __init__(self):\n",
    "        pass\n",
    "\n",
    "    def pcd_convex_hull(sefl, pcd, plot=True):\n",
    "        log.info(f'Convex Hull for pcd with {len(pcd.points)} points.')\n",
    "        o3d_mesh, _ = pcd.compute_convex_hull()\n",
    "        o3d_mesh.paint_uniform_color(LEAF_GREEN)\n",
    "        o3d_mesh.compute_vertex_normals()\n",
    "        log.info(f'Done. Crown volume: {o3d_mesh.get_volume():.2f}m3')\n",
    "        \n",
    "        if plot: # Visualize\n",
    "            plot_mesh(o3d_mesh)\n",
    "\n",
    "        return o3d_mesh\n",
    "\n",
    "    def alpha_shape(self, pcd, alpha=.8, plot=True):\n",
    "        log.info(f'Alpha Shapes for pcd with {len(pcd.points)} points.')\n",
    "        start = time.time()\n",
    "        pcd_pts = np.asarray(pcd.points)\n",
    "        mesh = alphashape.alphashape(pcd_pts, alpha)\n",
    "        log.info(f'Done. {time.time()-start:.2f}s.')\n",
    "        \n",
    "        # Repair\n",
    "        log.info(f'Repair broken faces...')\n",
    "        clean_points, clean_faces = pymeshfix.clean_from_arrays(mesh.vertices,  mesh.faces)\n",
    "        mesh = trimesh.base.Trimesh(clean_points, clean_faces)\n",
    "        mesh.fix_normals()\n",
    "        log.info(f'Done. Crown volume: {mesh.volume:.2f}m3')\n",
    "        \n",
    "        # convert\n",
    "        o3d_mesh = mesh.as_open3d\n",
    "        o3d_mesh.compute_vertex_normals()\n",
    "        o3d_mesh.paint_uniform_color(LEAF_GREEN)\n",
    "\n",
    "        if plot: # Visualize\n",
    "            plot_mesh(o3d_mesh)\n",
    "\n",
    "        return o3d_mesh\n",
    "\n",
    "    def model(self, pcd):\n",
    "        pass\n",
    "\n",
    "\n",
    "def plot_mesh(mesh):\n",
    "    fig = plt.figure()\n",
    "    ax = plt.axes(projection='3d')\n",
    "    ax.plot_trisurf(*zip(*mesh.vertices), triangles=mesh.triangles, color='green')\n",
    "    plt.show()\n",
    "\n",
    "def show_meshlines(mesh, pcds=[]):\n",
    "    mesh_lines = o3d.geometry.LineSet.create_from_triangle_mesh(mesh)\n",
    "    mesh_lines.paint_uniform_color((1, 0, 0))\n",
    "    geometries = pcds + [mesh_lines]\n",
    "    o3d.visualization.draw_geometries(geometries)\n"
   ]
  },
  {
   "attachments": {},
   "cell_type": "markdown",
   "metadata": {},
   "source": [
    "##### Load data"
   ]
  },
  {
   "cell_type": "code",
   "execution_count": null,
   "metadata": {},
   "outputs": [],
   "source": [
    "# Load point cloud data\n",
    "source = 'x'\n",
    "\n",
    "if source == 'ahn':\n",
    "    pcd = o3d_utils.read_las('../datasets/single_selection/single_121913_487434_AHN.las')\n",
    "elif source == 'cyclo':\n",
    "    pcd = o3d_utils.read_las('../datasets/single_selection/single_121913_487434_Cyclo.las')\n",
    "else:\n",
    "    pcd = o3d_utils.read_las('../datasets/single_selection/single_121913_487434_Sonarski.las')\n",
    "\n",
    "\n",
    "stem_cloud = pcd.select_by_index(np.where(np.asarray(pcd.points)[:,2]<4.8)[0])\n",
    "crown_cloud = pcd.select_by_index(np.where(np.asarray(pcd.points)[:,2]>5)[0])"
   ]
  },
  {
   "attachments": {},
   "cell_type": "markdown",
   "metadata": {},
   "source": [
    "##### Experimental"
   ]
  },
  {
   "cell_type": "code",
   "execution_count": null,
   "metadata": {},
   "outputs": [],
   "source": [
    "crownAnalysis = Crown()"
   ]
  },
  {
   "cell_type": "code",
   "execution_count": null,
   "metadata": {},
   "outputs": [],
   "source": [
    "voxel_size = 0.3\n",
    "\n",
    "# Down sample crown\n",
    "crown_sampled = crown_cloud.voxel_down_sample(voxel_size)"
   ]
  },
  {
   "cell_type": "code",
   "execution_count": null,
   "metadata": {},
   "outputs": [],
   "source": [
    "crownAnalysis.model(crown_cloud)"
   ]
  },
  {
   "cell_type": "code",
   "execution_count": null,
   "metadata": {},
   "outputs": [],
   "source": [
    "mesh_ch = crownAnalysis.pcd_convex_hull(crown_sampled)\n",
    "mesh_as = crownAnalysis.alpha_shape(crown_sampled)"
   ]
  },
  {
   "cell_type": "code",
   "execution_count": null,
   "metadata": {},
   "outputs": [],
   "source": [
    "show_meshlines(mesh_as, [crown_cloud])"
   ]
  },
  {
   "cell_type": "code",
   "execution_count": null,
   "metadata": {},
   "outputs": [],
   "source": [
    "def grid_project(pcd, voxel_size):\n",
    "    pts = np.array(pcd.points)\n",
    "    pts[:,2] = 0\n",
    "    pcd_ = o3d.geometry.PointCloud(o3d.utility.Vector3dVector(pts))\n",
    "    pcd_ = pcd_.voxel_down_sample(voxel_size)\n",
    "    pts = np.asarray(pcd_.points)[:,:2]\n",
    "    return pts"
   ]
  },
  {
   "cell_type": "code",
   "execution_count": null,
   "metadata": {},
   "outputs": [],
   "source": [
    "# Stem shape\n",
    "proj_pts = grid_project(stem_cloud, 0.02)\n",
    "stem_shape = alphashape.alphashape(proj_pts, 0.5)\n",
    "stem_shape = stem_shape.buffer(0.01)\n",
    "tree_center = np.hstack(stem_shape.centroid.coords)\n",
    "\n",
    "# Crown shape\n",
    "proj_pts = grid_project(crown_cloud, 0.3)\n",
    "crown_shape = alphashape.alphashape(proj_pts, 2)\n",
    "crown_shape = crown_shape.buffer(0.1)\n",
    "\n",
    "# Center\n",
    "proj_pts_shifted = proj_pts-[tree_center]\n",
    "stem_shape_shifted = shapely.affinity.translate(stem_shape, *(-tree_center))\n",
    "crown_shape_shifted = shapely.affinity.translate(crown_shape, *(-tree_center))\n",
    "\n",
    "# Initialize plot\n",
    "fig, ax = plt.subplots()\n",
    "ax.plot(0, marker='x', c='k', markersize=5)\n",
    "ax.add_patch(PolygonPatch(crown_shape_shifted, alpha=.15, color='green', label='Crown'))\n",
    "ax.add_patch(PolygonPatch(stem_shape_shifted, alpha=.8, color='brown', label='Stem'))\n",
    "lim = np.max(np.abs(proj_pts_shifted))\n",
    "ax.set_xlim(-lim-.5,lim+.5)\n",
    "ax.set_ylim(-lim-.5,lim+.5)\n",
    "ax.legend()\n",
    "ax.set_title('Tree Projection')\n",
    "plt.show()"
   ]
  }
 ],
 "metadata": {
  "kernelspec": {
   "display_name": ".tree_env",
   "language": "python",
   "name": "python3"
  },
  "language_info": {
   "codemirror_mode": {
    "name": "ipython",
    "version": 3
   },
   "file_extension": ".py",
   "mimetype": "text/x-python",
   "name": "python",
   "nbconvert_exporter": "python",
   "pygments_lexer": "ipython3",
   "version": "3.10.9"
  },
  "orig_nbformat": 4,
  "vscode": {
   "interpreter": {
    "hash": "e54412181b17183265f47da66017f1fcbc2cf0510add11e3f16d36d3772ca2b6"
   }
  }
 },
 "nbformat": 4,
 "nbformat_minor": 2
}
