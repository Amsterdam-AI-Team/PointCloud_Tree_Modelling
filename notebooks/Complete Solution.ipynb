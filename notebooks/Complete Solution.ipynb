{
 "cells": [
  {
   "attachments": {},
   "cell_type": "markdown",
   "metadata": {},
   "source": [
    "# Complete Solution\n",
    "\n",
    "This notebook that analysis the Crown.\n",
    "\n",
    "---------------"
   ]
  },
  {
   "attachments": {},
   "cell_type": "markdown",
   "metadata": {},
   "source": [
    "##### Imports"
   ]
  },
  {
   "cell_type": "code",
   "execution_count": null,
   "metadata": {
    "vscode": {
     "languageId": "python"
    }
   },
   "outputs": [],
   "source": [
    "# Uncomment to load the local package rather than the pip-installed version.\n",
    "# Add project src to path.\n",
    "import set_path"
   ]
  },
  {
   "cell_type": "code",
   "execution_count": null,
   "metadata": {
    "vscode": {
     "languageId": "python"
    }
   },
   "outputs": [],
   "source": [
    "# Import modules.\n",
    "import os\n",
    "import glob\n",
    "import pathlib\n",
    "import numpy as np\n",
    "import pandas as pd\n",
    "import open3d as o3d\n",
    "from tqdm import tqdm\n",
    "\n",
    "import tree as tree_utils\n",
    "import utils.o3d_utils as o3d_utils\n",
    "import utils.ahn_utils as ahn_utils\n",
    "import utils.las_utils as las_utils"
   ]
  },
  {
   "attachments": {},
   "cell_type": "markdown",
   "metadata": {},
   "source": [
    "#### Process File\n",
    "----"
   ]
  },
  {
   "cell_type": "code",
   "execution_count": null,
   "metadata": {
    "vscode": {
     "languageId": "python"
    }
   },
   "outputs": [],
   "source": [
    "adTree_exe = '../../AdTree-single/build/bin/AdTree.app/Contents/MacOS/AdTree'\n",
    "\n",
    "# Load point cloud data. source can be: ahn / cyclo / sonarski\n",
    "las_file = '../../../datasets/Waternet/clipped/cyclo_119287_484147_Ulmus_4.las'\n",
    "tree_cloud = o3d_utils.read_las(las_file)\n",
    "\n",
    "# surface reconstruction\n",
    "ahn_data_folder = '../../../datasets/Waternet/ahn_surf/'\n",
    "npz_reader = ahn_utils.NPZReader(ahn_data_folder)\n",
    "treecode = las_utils.get_treecode_from_filename(las_file)\n",
    "ground_points = npz_reader.get_tree_surface(treecode)\n",
    "ground_cloud = o3d.geometry.PointCloud(o3d.utility.Vector3dVector(ground_points))"
   ]
  },
  {
   "cell_type": "code",
   "execution_count": null,
   "metadata": {
    "vscode": {
     "languageId": "python"
    }
   },
   "outputs": [],
   "source": [
    "o3d.visualization.draw_geometries([ground_cloud,tree_cloud])"
   ]
  },
  {
   "cell_type": "code",
   "execution_count": null,
   "metadata": {
    "vscode": {
     "languageId": "python"
    }
   },
   "outputs": [],
   "source": [
    "# Analyse tree\n",
    "result = tree_utils.process_tree(tree_cloud, ground_cloud, adTree_exe, crown_model_method='Convex_Hull')"
   ]
  },
  {
   "cell_type": "code",
   "execution_count": null,
   "metadata": {
    "vscode": {
     "languageId": "python"
    }
   },
   "outputs": [],
   "source": [
    "o3d.visualization.draw_geometries([result['LoD']])"
   ]
  },
  {
   "attachments": {},
   "cell_type": "markdown",
   "metadata": {},
   "source": [
    "#### Process Folder\n",
    "----"
   ]
  },
  {
   "cell_type": "code",
   "execution_count": null,
   "metadata": {
    "vscode": {
     "languageId": "python"
    }
   },
   "outputs": [],
   "source": [
    "def process_file(file, npz_reader, adTree_exe):\n",
    "\n",
    "    tree_cloud = o3d_utils.read_las(file)\n",
    "    treecode = las_utils.get_treecode_from_filename(file.name)\n",
    "    ground_points = npz_reader.get_tree_surface(treecode)\n",
    "    ground_cloud = o3d.geometry.PointCloud(o3d.utility.Vector3dVector(ground_points))\n",
    "\n",
    "    processed_tree = tree_utils.process_tree(tree_cloud, ground_cloud, adTree_exe, crown_model_method='Convex_Hull')\n",
    "\n",
    "    return processed_tree\n",
    "\n",
    "\n",
    "def process_folder(in_folder, npz_reader, adTree_exe):\n",
    "\n",
    "    if not os.path.isdir(in_folder):\n",
    "        print('The input path specified does not exist')\n",
    "\n",
    "    if type(in_folder) == str:\n",
    "        in_folder = pathlib.Path(in_folder)\n",
    "\n",
    "    file_types = ('.LAS', '.las', '.LAZ', '.laz')\n",
    "    files = [f for f in in_folder.glob('*')\n",
    "                if f.name.endswith(file_types)]\n",
    "\n",
    "    files_tqdm = tqdm(files, unit=\"file\",\n",
    "                    disable=False, smoothing=0)\n",
    "\n",
    "    results = []\n",
    "    for file in files:\n",
    "        print(file.name)\n",
    "        result = process_file(file, npz_reader=npz_reader, adTree_exe=adTree_exe)\n",
    "        result = {key:result[key] for key in ['stem_startpoint', 'stem_height', 'stem_angle', 'DBH', 'crown_baseheight', 'crown_height', 'crown_diameter', 'crown_volume', 'crown_volume']}\n",
    "        result['Boom'] = file.name\n",
    "        results.append(result)\n",
    "\n",
    "    df = pd.DataFrame(results)\n",
    "    return df"
   ]
  },
  {
   "cell_type": "code",
   "execution_count": null,
   "metadata": {
    "vscode": {
     "languageId": "python"
    }
   },
   "outputs": [],
   "source": [
    "in_folder = '../../../datasets/Waternet/clipped/'\n",
    "ahn_data_folder = '../../../datasets/Waternet/ahn_surf/'\n",
    "# out_folder = '../run1/'\n",
    "\n",
    "adTree_exe = '../../AdTree-single/build/bin/AdTree.app/Contents/MacOS/AdTree'\n",
    "\n",
    "npz_reader = ahn_utils.NPZReader(ahn_data_folder)"
   ]
  },
  {
   "cell_type": "code",
   "execution_count": null,
   "metadata": {
    "vscode": {
     "languageId": "python"
    }
   },
   "outputs": [],
   "source": [
    "df = process_folder(in_folder, npz_reader, adTree_exe)"
   ]
  }
 ],
 "metadata": {
  "kernelspec": {
   "display_name": "tree_env",
   "language": "python",
   "name": "tree_env"
  },
  "orig_nbformat": 4,
  "vscode": {
   "interpreter": {
    "hash": "aee8b7b246df8f9039afb4144a1f6fd8d2ca17a180786b69acc140d282b71a49"
   }
  }
 },
 "nbformat": 4,
 "nbformat_minor": 2
}
