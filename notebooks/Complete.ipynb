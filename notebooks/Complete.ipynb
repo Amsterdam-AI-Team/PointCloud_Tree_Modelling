{
 "cells": [
  {
   "attachments": {},
   "cell_type": "markdown",
   "metadata": {},
   "source": [
    "# Complete Solution\n",
    "\n",
    "This notebook that analysis the Crown.\n",
    "\n",
    "---------------"
   ]
  },
  {
   "attachments": {},
   "cell_type": "markdown",
   "metadata": {},
   "source": [
    "##### Imports"
   ]
  },
  {
   "cell_type": "code",
   "execution_count": 1,
   "metadata": {},
   "outputs": [],
   "source": [
    "# Uncomment to load the local package rather than the pip-installed version.\n",
    "# Add project src to path.\n",
    "import set_path"
   ]
  },
  {
   "cell_type": "code",
   "execution_count": 2,
   "metadata": {},
   "outputs": [],
   "source": [
    "# Import modules.\n",
    "import numpy as np\n",
    "import open3d as o3d\n",
    "\n",
    "from tree import analyse_tree\n",
    "import utils.o3d_utils as o3d_utils"
   ]
  },
  {
   "attachments": {},
   "cell_type": "markdown",
   "metadata": {},
   "source": [
    "##### Load data"
   ]
  },
  {
   "cell_type": "code",
   "execution_count": 3,
   "metadata": {},
   "outputs": [
    {
     "name": "stdout",
     "output_type": "stream",
     "text": [
      "Point cloud of 168265 points, (12.9x12.6x15.3), and 0.044 point density.\n"
     ]
    }
   ],
   "source": [
    "# Load point cloud data\n",
    "source = 'cyclo'\n",
    "\n",
    "if source == 'ahn':\n",
    "    pcd = o3d_utils.read_las('../datasets/single_selection/single_121913_487434_AHN.las')\n",
    "elif source == 'cyclo':\n",
    "    pcd = o3d_utils.read_las('../datasets/single_selection/single_121913_487434_Cyclo.las')\n",
    "else:\n",
    "    pcd = o3d_utils.read_las('../datasets/single_selection/single_121913_487434_Sonarski.las')\n"
   ]
  },
  {
   "attachments": {},
   "cell_type": "markdown",
   "metadata": {},
   "source": [
    "##### Experimental"
   ]
  },
  {
   "cell_type": "code",
   "execution_count": 4,
   "metadata": {},
   "outputs": [
    {
     "name": "stdout",
     "output_type": "stream",
     "text": [
      "Leaf-wood classification using `curvature` method...\n",
      "Done. 55020/168265 points wood.\n",
      "Reconstructing tree skeleton...\n",
      "Done. Skeleton constructed containing 27533 nodes\n",
      "Splitting stem form crown...\n"
     ]
    },
    {
     "ename": "AttributeError",
     "evalue": "'open3d.cpu.pybind.geometry.PointCloud' object has no attribute 'nodes'",
     "output_type": "error",
     "traceback": [
      "\u001b[0;31m---------------------------------------------------------------------------\u001b[0m",
      "\u001b[0;31mAttributeError\u001b[0m                            Traceback (most recent call last)",
      "Cell \u001b[0;32mIn[4], line 2\u001b[0m\n\u001b[1;32m      1\u001b[0m adTree_exe \u001b[39m=\u001b[39m \u001b[39m'\u001b[39m\u001b[39m../../AdTree-single/build/bin/AdTree.app/Contents/MacOS/AdTree\u001b[39m\u001b[39m'\u001b[39m\n\u001b[0;32m----> 2\u001b[0m analyse_tree(pcd, adTree_exe, filter_leaves\u001b[39m=\u001b[39;49m\u001b[39m'\u001b[39;49m\u001b[39mcurvature\u001b[39;49m\u001b[39m'\u001b[39;49m,)\n",
      "File \u001b[0;32m~/Documents/Werk/GemeenteAmsterdam/Bomen/project/PointCloud_Tree_Analysis/src/tree.py:347\u001b[0m, in \u001b[0;36manalyse_tree\u001b[0;34m(tree_cloud, adTree_exe, filter_leaves)\u001b[0m\n\u001b[1;32m    345\u001b[0m \u001b[39m# 3. Stem-crow splitting\u001b[39;00m\n\u001b[1;32m    346\u001b[0m \u001b[39mprint\u001b[39m(\u001b[39m\"\u001b[39m\u001b[39mSplitting stem form crown...\u001b[39m\u001b[39m\"\u001b[39m)\n\u001b[0;32m--> 347\u001b[0m stem_mask \u001b[39m=\u001b[39m stem_crown_split(skeleton[\u001b[39m'\u001b[39;49m\u001b[39mgraph\u001b[39;49m\u001b[39m'\u001b[39;49m], tree_cloud)\n\u001b[1;32m    348\u001b[0m labels[stem_mask] \u001b[39m=\u001b[39m Labels\u001b[39m.\u001b[39mSTEM\n\u001b[1;32m    349\u001b[0m \u001b[39mprint\u001b[39m(\u001b[39mf\u001b[39m\u001b[39m\"\u001b[39m\u001b[39mDone. \u001b[39m\u001b[39m{\u001b[39;00mnp\u001b[39m.\u001b[39msum(stem_mask)\u001b[39m}\u001b[39;00m\u001b[39m/\u001b[39m\u001b[39m{\u001b[39;00m\u001b[39mlen\u001b[39m(labels)\u001b[39m}\u001b[39;00m\u001b[39m points labeled as stem.\u001b[39m\u001b[39m\"\u001b[39m)\n",
      "File \u001b[0;32m~/Documents/Werk/GemeenteAmsterdam/Bomen/project/PointCloud_Tree_Analysis/src/tree.py:106\u001b[0m, in \u001b[0;36mstem_crown_split\u001b[0;34m(tree_cloud, skeleton_graph)\u001b[0m\n\u001b[1;32m    103\u001b[0m \u001b[39m\"\"\"Function to split the stem from the crown using the reconstructed tree skeleton.\"\"\"\u001b[39;00m\n\u001b[1;32m    105\u001b[0m \u001b[39m# get start node and retrieve path\u001b[39;00m\n\u001b[0;32m--> 106\u001b[0m z_values \u001b[39m=\u001b[39m nx\u001b[39m.\u001b[39;49mget_node_attributes(skeleton_graph, \u001b[39m'\u001b[39;49m\u001b[39mz\u001b[39;49m\u001b[39m'\u001b[39;49m)\n\u001b[1;32m    107\u001b[0m start_node \u001b[39m=\u001b[39m \u001b[39mmin\u001b[39m(z_values, key\u001b[39m=\u001b[39mz_values\u001b[39m.\u001b[39mget)\n\u001b[1;32m    108\u001b[0m path \u001b[39m=\u001b[39m graph_utils\u001b[39m.\u001b[39mpath_till_split(skeleton_graph, start_node)\n",
      "File \u001b[0;32m~/Documents/Werk/GemeenteAmsterdam/Bomen/project/tree_env/lib/python3.10/site-packages/networkx/classes/function.py:722\u001b[0m, in \u001b[0;36mget_node_attributes\u001b[0;34m(G, name)\u001b[0m\n\u001b[1;32m    700\u001b[0m \u001b[39mdef\u001b[39;00m \u001b[39mget_node_attributes\u001b[39m(G, name):\n\u001b[1;32m    701\u001b[0m     \u001b[39m\"\"\"Get node attributes from graph\u001b[39;00m\n\u001b[1;32m    702\u001b[0m \n\u001b[1;32m    703\u001b[0m \u001b[39m    Parameters\u001b[39;00m\n\u001b[0;32m   (...)\u001b[0m\n\u001b[1;32m    720\u001b[0m \u001b[39m    'red'\u001b[39;00m\n\u001b[1;32m    721\u001b[0m \u001b[39m    \"\"\"\u001b[39;00m\n\u001b[0;32m--> 722\u001b[0m     \u001b[39mreturn\u001b[39;00m {n: d[name] \u001b[39mfor\u001b[39;00m n, d \u001b[39min\u001b[39;00m G\u001b[39m.\u001b[39;49mnodes\u001b[39m.\u001b[39mitems() \u001b[39mif\u001b[39;00m name \u001b[39min\u001b[39;00m d}\n",
      "\u001b[0;31mAttributeError\u001b[0m: 'open3d.cpu.pybind.geometry.PointCloud' object has no attribute 'nodes'"
     ]
    }
   ],
   "source": [
    "adTree_exe = '../../AdTree-single/build/bin/AdTree.app/Contents/MacOS/AdTree'\n",
    "analyse_tree(pcd, adTree_exe, filter_leaves='curvature',)"
   ]
  },
  {
   "cell_type": "code",
   "execution_count": null,
   "metadata": {},
   "outputs": [],
   "source": []
  }
 ],
 "metadata": {
  "kernelspec": {
   "display_name": "tree_env",
   "language": "python",
   "name": "tree_env"
  },
  "language_info": {
   "codemirror_mode": {
    "name": "ipython",
    "version": 3
   },
   "file_extension": ".py",
   "mimetype": "text/x-python",
   "name": "python",
   "nbconvert_exporter": "python",
   "pygments_lexer": "ipython3",
   "version": "3.10.7"
  },
  "orig_nbformat": 4,
  "vscode": {
   "interpreter": {
    "hash": "aee8b7b246df8f9039afb4144a1f6fd8d2ca17a180786b69acc140d282b71a49"
   }
  }
 },
 "nbformat": 4,
 "nbformat_minor": 2
}
