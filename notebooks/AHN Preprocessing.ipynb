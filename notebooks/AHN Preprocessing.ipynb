{
 "cells": [
  {
   "attachments": {},
   "cell_type": "markdown",
   "id": "c3fd9730-0dc5-4520-a485-b2445c984820",
   "metadata": {},
   "source": [
    "# AHN Preprocessing\n",
    "---\n",
    "A notebook for preprocessing AHN data to ground surfaces.\n",
    "- _[AHN](https://www.ahn.nl) data_ (publicly available)"
   ]
  },
  {
   "attachments": {},
   "cell_type": "markdown",
   "id": "e3278c49",
   "metadata": {},
   "source": [
    "#### 0. Import Modules"
   ]
  },
  {
   "cell_type": "code",
   "execution_count": null,
   "id": "57f542f8-21bf-4382-bfb9-11b11b05802b",
   "metadata": {},
   "outputs": [],
   "source": [
    "# Add project src to path.\n",
    "import set_path\n",
    "\n",
    "# Import modules.\n",
    "from tqdm import tqdm\n",
    "import pathlib\n",
    "import numpy as np\n",
    "import open3d as o3d\n",
    "import utils.las_utils as las_utils\n",
    "import utils.ahn_utils as ahn_utils\n",
    "import utils.math_utils as math_utils\n",
    "import utils.o3d_utils as o3d_utils\n",
    "from utils.interpolation import FastGridInterpolator\n",
    "import preprocessing.ahn_preprocessing as ahn_preprocessing"
   ]
  },
  {
   "attachments": {},
   "cell_type": "markdown",
   "id": "1f5632d4",
   "metadata": {},
   "source": [
    "#### 1. Preprocess"
   ]
  },
  {
   "cell_type": "code",
   "execution_count": null,
   "id": "61b45722",
   "metadata": {},
   "outputs": [],
   "source": [
    "ahn_cloud_folder = '../../../datasets/AHN/'\n",
    "tree_dataset_folder = '../../../datasets/dataset_1/'"
   ]
  },
  {
   "cell_type": "code",
   "execution_count": null,
   "id": "8d8169ec",
   "metadata": {},
   "outputs": [],
   "source": [
    "# collect ahn files\n",
    "ahn_data_folder = pathlib.Path(ahn_cloud_folder)\n",
    "ahn_bboxes = las_utils.ahn_bbox_las_folder(ahn_data_folder)\n",
    "print(f\"- {len(ahn_bboxes)} AHN clouds: {list(ahn_bboxes.keys())}\")\n",
    "\n",
    "# collect treecodes\n",
    "data_folder = pathlib.Path(tree_dataset_folder)\n",
    "surface_out_folder = data_folder.joinpath('ahn_surf/')\n",
    "file_types = ('.LAS', '.las', '.LAZ', '.laz')\n",
    "treecodes = set([las_utils.get_treecode_from_filename(f.name) for f in data_folder.glob('*/filtered_tree_*')\n",
    "             if f.name.endswith(file_types)])\n",
    "print(f\"- {len(treecodes)} treecodes\")\n",
    "\n",
    "treecodes_ahn = {key: [] for key in ahn_bboxes.keys()}\n",
    "for treecode in treecodes:\n",
    "    bbox = las_utils.get_bbox_treecode(treecode, 10)\n",
    "    for ahn_file, ahn_bbox in ahn_bboxes.items():\n",
    "        if math_utils.bbox_in_bbox(bbox, ahn_bbox):\n",
    "            treecodes_ahn[ahn_file].append(treecode)\n",
    "            break"
   ]
  },
  {
   "cell_type": "code",
   "execution_count": null,
   "id": "db79d05e",
   "metadata": {},
   "outputs": [],
   "source": [
    "# Preprocess all treecodes\n",
    "# WARNING: this may require 16+ GB of RAM, depending on the size of the clouda.\n",
    "# WARNING: this may significant amount of time.\n",
    "for ahn_file, treecodes in treecodes_ahn.items():\n",
    "    print(ahn_file)\n",
    "    if len(treecodes) > 0:\n",
    "        ahn_cloud = las_utils.read_las(ahn_data_folder.joinpath(ahn_file))\n",
    "        ahn_preprocessing.clip_ahn_treecodes(ahn_cloud, treecodes, surface_out_folder, buffer=10)"
   ]
  },
  {
   "attachments": {},
   "cell_type": "markdown",
   "id": "6885da1a",
   "metadata": {},
   "source": [
    "**Example:** elevation level of a tree"
   ]
  },
  {
   "cell_type": "code",
   "execution_count": null,
   "id": "b2a441a7",
   "metadata": {},
   "outputs": [],
   "source": [
    "tree_cloud = o3d_utils.read_las('../../../datasets/dataset_1/cyclomedia/filtered_tree_119305_485108.laz')\n",
    "ground_cloud = o3d_utils.read_las('../../../datasets/dataset_1/ahn_surf/ahn_surf_119305_485108.laz')\n",
    "\n",
    "npz_reader = ahn_utils.NPZReader('../../../datasets/dataset_1/ahn_surf/')\n",
    "npz_reader.tree_surface_z('119305_485108')"
   ]
  },
  {
   "cell_type": "code",
   "execution_count": null,
   "id": "bba62d09",
   "metadata": {},
   "outputs": [],
   "source": [
    "o3d.visualization.draw_geometries([ground_cloud, tree_cloud])"
   ]
  }
 ],
 "metadata": {
  "kernelspec": {
   "display_name": "tree_env",
   "language": "python",
   "name": "tree_env"
  },
  "language_info": {
   "codemirror_mode": {
    "name": "ipython",
    "version": 3
   },
   "file_extension": ".py",
   "mimetype": "text/x-python",
   "name": "python",
   "nbconvert_exporter": "python",
   "pygments_lexer": "ipython3",
   "version": "3.10.7 (main, Sep 15 2022, 01:50:27) [Clang 12.0.0 (clang-1200.0.32.29)]"
  }
 },
 "nbformat": 4,
 "nbformat_minor": 5
}
