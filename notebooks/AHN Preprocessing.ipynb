{
 "cells": [
  {
   "attachments": {},
   "cell_type": "markdown",
   "id": "c3fd9730-0dc5-4520-a485-b2445c984820",
   "metadata": {},
   "source": [
    "# AHN Preprocessing\n",
    "---\n",
    "A notebook for preprocessing AHN data to ground surfaces.\n",
    "- _[AHN](https://www.ahn.nl) data_ (publicly available)"
   ]
  },
  {
   "attachments": {},
   "cell_type": "markdown",
   "id": "e3278c49",
   "metadata": {},
   "source": [
    "#### 0. Import Modules"
   ]
  },
  {
   "cell_type": "code",
   "execution_count": null,
   "id": "57f542f8-21bf-4382-bfb9-11b11b05802b",
   "metadata": {
    "vscode": {
     "languageId": "python"
    }
   },
   "outputs": [],
   "source": [
    "# Add project src to path.\n",
    "import set_path\n",
    "\n",
    "# Import modules.\n",
    "from tqdm import tqdm\n",
    "import pathlib\n",
    "import numpy as np\n",
    "import open3d as o3d\n",
    "import utils.las_utils as las_utils\n",
    "import utils.ahn_utils as ahn_utils\n",
    "import utils.o3d_utils as o3d_utils\n",
    "from utils.interpolation import FastGridInterpolator\n",
    "import preprocessing.ahn_preprocessing as ahn_preprocessing"
   ]
  },
  {
   "attachments": {},
   "cell_type": "markdown",
   "id": "473b991b",
   "metadata": {},
   "source": [
    "#### 1. Preprocess AHN"
   ]
  },
  {
   "cell_type": "code",
   "execution_count": null,
   "id": "f7b25ee3",
   "metadata": {
    "vscode": {
     "languageId": "python"
    }
   },
   "outputs": [],
   "source": [
    "# Load the AHN point cloud.\n",
    "# WARNING: this may require 16+ GB of RAM, depending on the size of the cloud.\n",
    "ahn_cloud_file = '../../../datasets/Waternet/ahn/ahn4_laz/merged.las'\n",
    "ahn_cloud = las_utils.read_las(ahn_cloud_file)"
   ]
  },
  {
   "cell_type": "code",
   "execution_count": null,
   "id": "06ec6e4a",
   "metadata": {
    "vscode": {
     "languageId": "python"
    }
   },
   "outputs": [],
   "source": [
    "# Load the AHN point cloud. (from a folder of las files)\n",
    "las_folder = '../../../datasets/Waternet/ahn/ahn4_laz/'\n",
    "ahn_cloud = las_utils.merge_las_folder(las_folder)"
   ]
  },
  {
   "cell_type": "code",
   "execution_count": null,
   "id": "b4172067",
   "metadata": {
    "vscode": {
     "languageId": "python"
    }
   },
   "outputs": [],
   "source": [
    "in_folder = '../../../datasets/Waternet/clipped/'\n",
    "ahn_data_folder = '../../../datasets/Waternet/ahn_surf/'\n",
    "\n",
    "# Clip the corresponding AHN point cloud tiles and create the AHN ground surfaces, with a 0.1m resolution, and save them as an .npz file.\n",
    "ahn_preprocessing.clip_ahn_las_folder(ahn_cloud, in_folder, out_folder=ahn_data_folder, buffer=4,\n",
    "                        resume=False, hide_progress=False)"
   ]
  },
  {
   "attachments": {},
   "cell_type": "markdown",
   "id": "6885da1a",
   "metadata": {},
   "source": [
    "**Example:** elevation level of a tree"
   ]
  },
  {
   "cell_type": "code",
   "execution_count": null,
   "id": "b2a441a7",
   "metadata": {
    "vscode": {
     "languageId": "python"
    }
   },
   "outputs": [],
   "source": [
    "treecode = '121913_487434'\n",
    "\n",
    "ground_cloud = o3d_utils.read_las('../datasets/ahn_surf/ahn_surf_'+treecode+'.laz')\n",
    "tree_cloud = o3d_utils.read_las('../datasets/cyclo/cyclo_'+treecode+'.las')\n",
    "\n",
    "o3d.visualization.draw_geometries([ground_cloud, tree_cloud])"
   ]
  }
 ],
 "metadata": {
  "kernelspec": {
   "display_name": "tree_env",
   "language": "python",
   "name": "tree_env"
  }
 },
 "nbformat": 4,
 "nbformat_minor": 5
}
