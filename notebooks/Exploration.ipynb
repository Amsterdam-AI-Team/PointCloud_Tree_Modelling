{
 "cells": [
  {
   "attachments": {},
   "cell_type": "markdown",
   "id": "c3fd9730-0dc5-4520-a485-b2445c984820",
   "metadata": {},
   "source": [
    "# Exploration Notebook\n",
    "---\n",
    "An exploration notebook for tree point clouds. We will compare and analyse isolated trees using three different point cloud sources:\n",
    "- _[AHN](https://www.ahn.nl) data_ (publicly available)\n",
    "- _Cyclo Media_\n",
    "- _Sonarski_\n",
    "\n",
    "\n",
    "**Visual Impressions**\n",
    "\n",
    "This particular tree is located at 1219.13, 4874.34 (LTR: AHN, CycloMedia, Sonarski):\n",
    "\n",
    "![Comparison of datasets (side-view)](../imgs/20_side.png)\n",
    "![Comparison of datasets (top-view)](../imgs/20_top.png)"
   ]
  },
  {
   "attachments": {},
   "cell_type": "markdown",
   "id": "e3278c49",
   "metadata": {},
   "source": [
    "### 0. Setup Notebook\n",
    "---\n",
    "\n",
    "**Import Modules**"
   ]
  },
  {
   "cell_type": "code",
   "execution_count": 4,
   "id": "57f542f8-21bf-4382-bfb9-11b11b05802b",
   "metadata": {},
   "outputs": [],
   "source": [
    "# Add project src to path.\n",
    "import set_path\n",
    "\n",
    "# Import modules.\n",
    "import numpy as np\n",
    "import open3d as o3d\n",
    "import matplotlib.pyplot as plt\n",
    "from tqdm import tqdm\n",
    "from shapely.geometry import Polygon\n",
    "from scipy.spatial import ConvexHull\n",
    "\n",
    "import utils.math_utils as math_utils\n",
    "import utils.plot_utils as plot_utils\n",
    "import utils.las_utils as las_utils\n",
    "import utils.o3d_utils as o3d_utils"
   ]
  },
  {
   "attachments": {},
   "cell_type": "markdown",
   "id": "a2d10962",
   "metadata": {},
   "source": [
    "**Set-up Logging**"
   ]
  },
  {
   "cell_type": "code",
   "execution_count": null,
   "id": "e94d3517",
   "metadata": {},
   "outputs": [],
   "source": [
    "log.basicConfig(\n",
    "    level=log.INFO,\n",
    "    format=\"%(asctime)s [%(levelname)s] %(message)s\",\n",
    "    handlers=[\n",
    "        log.FileHandler(\"debug.log\"),\n",
    "        log.StreamHandler()\n",
    "    ]\n",
    ")"
   ]
  },
  {
   "attachments": {},
   "cell_type": "markdown",
   "id": "cdff3b7d",
   "metadata": {},
   "source": [
    "### 1. Load Data\n",
    "---\n",
    "\n",
    "**Load Tree Point Cloud** _(AHN / Cylco Media / Sonarski)_"
   ]
  },
  {
   "cell_type": "code",
   "execution_count": 5,
   "id": "0d4acc53",
   "metadata": {},
   "outputs": [
    {
     "name": "stdout",
     "output_type": "stream",
     "text": [
      "Point cloud of 168265 points, (12.9x12.6x15.3), and 0.044 point density.\n"
     ]
    }
   ],
   "source": [
    "# Load point cloud data\n",
    "source = 'cyclo'\n",
    "\n",
    "if source == 'ahn':\n",
    "    tree_cloud = o3d_utils.read_las('../datasets/single_selection/single_121913_487434_AHN.las')\n",
    "elif source == 'cyclo':\n",
    "    tree_cloud = o3d_utils.read_las('../datasets/single_selection/single_121913_487434_Cyclo.las')\n",
    "else:\n",
    "    tree_cloud = o3d_utils.read_las('../datasets/single_selection/single_121913_487434_Sonarski.las')\n"
   ]
  },
  {
   "attachments": {},
   "cell_type": "markdown",
   "id": "95235a39",
   "metadata": {},
   "source": [
    "**Visualize**"
   ]
  },
  {
   "cell_type": "code",
   "execution_count": null,
   "id": "8a34884e",
   "metadata": {},
   "outputs": [],
   "source": [
    "o3d.visualization.draw_geometries([tree_cloud])"
   ]
  },
  {
   "cell_type": "code",
   "execution_count": null,
   "id": "c0fb2498",
   "metadata": {},
   "outputs": [],
   "source": []
  }
 ],
 "metadata": {
  "kernelspec": {
   "display_name": "tree_env",
   "language": "python",
   "name": "tree_env"
  },
  "language_info": {
   "codemirror_mode": {
    "name": "ipython",
    "version": 3
   },
   "file_extension": ".py",
   "mimetype": "text/x-python",
   "name": "python",
   "nbconvert_exporter": "python",
   "pygments_lexer": "ipython3",
   "version": "3.10.7"
  }
 },
 "nbformat": 4,
 "nbformat_minor": 5
}
