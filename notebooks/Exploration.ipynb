{
 "cells": [
  {
   "attachments": {},
   "cell_type": "markdown",
   "id": "c3fd9730-0dc5-4520-a485-b2445c984820",
   "metadata": {},
   "source": [
    "# Exploration Notebook\n",
    "---\n",
    "An exploration notebook for tree point clouds. We will compare and analyse isolated trees using three different point cloud sources:\n",
    "- _[AHN](https://www.ahn.nl) data_ (publicly available)\n",
    "- _Cyclo Media_\n",
    "- _Sonarski_\n",
    "\n",
    "\n",
    "**Visual Impressions**\n",
    "\n",
    "This particular tree is located at 1219.13, 4874.34 (LTR: AHN, CycloMedia, Sonarski):\n",
    "\n",
    "![Comparison of datasets (side-view)](../imgs/20_side.png)\n",
    "![Comparison of datasets (top-view)](../imgs/20_top.png)"
   ]
  },
  {
   "attachments": {},
   "cell_type": "markdown",
   "id": "e3278c49",
   "metadata": {},
   "source": [
    "### 0. Setup Notebook\n",
    "---\n",
    "\n",
    "**Import Modules**"
   ]
  },
  {
   "cell_type": "code",
   "execution_count": null,
   "id": "57f542f8-21bf-4382-bfb9-11b11b05802b",
   "metadata": {},
   "outputs": [],
   "source": [
    "# Add project src to path.\n",
    "import set_path\n",
    "\n",
    "# Import modules.\n",
    "import numpy as np\n",
    "import open3d as o3d\n",
    "import matplotlib.pyplot as plt\n",
    "from tqdm import tqdm\n",
    "from shapely.geometry import Polygon\n",
    "from scipy.spatial import ConvexHull\n",
    "\n",
    "import utils.math_utils as math_utils\n",
    "import utils.plot_utils as plot_utils\n",
    "import utils.las_utils as las_utils\n",
    "import utils.o3d_utils as o3d_utils\n",
    "import utils.ahn_utils as ahn_utils\n",
    "import preprocessing.ahn_preprocessing as ahn_preprocessing"
   ]
  },
  {
   "attachments": {},
   "cell_type": "markdown",
   "id": "a2d10962",
   "metadata": {},
   "source": [
    "**Set-up Logging**"
   ]
  },
  {
   "cell_type": "code",
   "execution_count": null,
   "id": "e94d3517",
   "metadata": {},
   "outputs": [],
   "source": [
    "log.basicConfig(\n",
    "    level=log.INFO,\n",
    "    format=\"%(asctime)s [%(levelname)s] %(message)s\",\n",
    "    handlers=[\n",
    "        log.FileHandler(\"debug.log\"),\n",
    "        log.StreamHandler()\n",
    "    ]\n",
    ")"
   ]
  },
  {
   "attachments": {},
   "cell_type": "markdown",
   "id": "cdff3b7d",
   "metadata": {},
   "source": [
    "### 1. Load Data\n",
    "---\n",
    "\n",
    "**Load Tree Point Cloud** _(AHN / Cylco Media / Sonarski)_"
   ]
  },
  {
   "cell_type": "code",
   "execution_count": null,
   "id": "0d4acc53",
   "metadata": {},
   "outputs": [],
   "source": [
    "# Load point cloud data\n",
    "source = 'cyclo'\n",
    "\n",
    "if source == 'ahn':\n",
    "    tree_cloud = o3d_utils.read_las('../datasets/single_selection/single_121913_487434_AHN.las')\n",
    "elif source == 'cyclo':\n",
    "    tree_cloud = o3d_utils.read_las('../datasets/single_selection/single_121913_487434_Cyclo.las')\n",
    "else:\n",
    "    tree_cloud = o3d_utils.read_las('../datasets/single_selection/single_121913_487434_Sonarski.las')\n"
   ]
  },
  {
   "attachments": {},
   "cell_type": "markdown",
   "id": "95235a39",
   "metadata": {},
   "source": [
    "**Visualize**"
   ]
  },
  {
   "cell_type": "code",
   "execution_count": null,
   "id": "8a34884e",
   "metadata": {},
   "outputs": [],
   "source": [
    "o3d.visualization.draw_geometries([tree_cloud])"
   ]
  },
  {
   "attachments": {},
   "cell_type": "markdown",
   "id": "473b991b",
   "metadata": {},
   "source": [
    "#### AHN Surface"
   ]
  },
  {
   "cell_type": "code",
   "execution_count": null,
   "id": "f7b25ee3",
   "metadata": {},
   "outputs": [],
   "source": [
    "# Load the AHN point cloud.\n",
    "# WARNING: this may require 16+ GB of RAM, depending on the size of the cloud.\n",
    "ahn_cloud_file = '../datasets/C_25DN2.LAZ'\n",
    "ahn_cloud = las_utils.read_las(ahn_cloud_file)"
   ]
  },
  {
   "cell_type": "code",
   "execution_count": null,
   "id": "b4172067",
   "metadata": {},
   "outputs": [],
   "source": [
    "in_folder = '../..'\n",
    "ahn_data_folder = '../'\n",
    "\n",
    "# Clip the corresponding AHN point cloud tiles and create the AHN ground surfaces, with a 0.1m resolution, and save them as an .npz file.\n",
    "ahn_preprocessing.clip_ahn_las_folder(ahn_cloud, in_folder, out_folder=ahn_data_folder, buffer=4,\n",
    "                        resume=False, hide_progress=False)"
   ]
  },
  {
   "attachments": {},
   "cell_type": "markdown",
   "id": "6885da1a",
   "metadata": {},
   "source": [
    "**Ground Extraction**"
   ]
  },
  {
   "cell_type": "code",
   "execution_count": null,
   "id": "f20b3a23",
   "metadata": {},
   "outputs": [],
   "source": [
    "# Create the reader for .npz data.\n",
    "npz_reader = ahn_utils.NPZReader(ahn_data_folder)"
   ]
  },
  {
   "cell_type": "code",
   "execution_count": null,
   "id": "48db1c8d",
   "metadata": {},
   "outputs": [],
   "source": [
    "ahn_tile = npz_reader.filter_tile(tilecode)\n",
    "fast_z = FastGridInterpolator(ahn_tile['x'], ahn_tile['y'],\n",
    "                                ahn_tile['ground_surface'])"
   ]
  }
 ],
 "metadata": {
  "kernelspec": {
   "display_name": "tree_env",
   "language": "python",
   "name": "tree_env"
  },
  "language_info": {
   "codemirror_mode": {
    "name": "ipython",
    "version": 3
   },
   "file_extension": ".py",
   "mimetype": "text/x-python",
   "name": "python",
   "nbconvert_exporter": "python",
   "pygments_lexer": "ipython3",
   "version": "3.10.7 (main, Sep 15 2022, 01:50:27) [Clang 12.0.0 (clang-1200.0.32.29)]"
  }
 },
 "nbformat": 4,
 "nbformat_minor": 5
}
