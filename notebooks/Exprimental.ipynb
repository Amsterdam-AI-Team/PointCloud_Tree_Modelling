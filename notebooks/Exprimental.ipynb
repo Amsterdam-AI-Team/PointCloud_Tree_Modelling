{
 "cells": [
  {
   "cell_type": "markdown",
   "id": "c3fd9730-0dc5-4520-a485-b2445c984820",
   "metadata": {},
   "source": [
    "# Pointcloud Tree Analysis\n",
    "An experimental notebook\n",
    "\n",
    "We will compare and analyse isolated trees using three different point cloud sources:\n",
    "1. _[AHN](https://www.ahn.nl) data_ (publicly available)\n",
    "2. _Cyclo Media_\n",
    "3. _Sonarski_\n",
    "\n",
    "A visual impression of what the an isolated three looks like in the three datasets. \n",
    "This particular tree is located at 1219.13, 4874.34 (LTR: AHN, CycloMedia, Sonarski):\n",
    "\n",
    "![Comparison of datasets (side-view)](../imgs/20_side.png)\n",
    "![Comparison of datasets (top-view)](../imgs/20_top.png)"
   ]
  },
  {
   "cell_type": "markdown",
   "id": "e3278c49",
   "metadata": {},
   "source": [
    "#### Import Modules"
   ]
  },
  {
   "cell_type": "code",
   "execution_count": null,
   "id": "57f542f8-21bf-4382-bfb9-11b11b05802b",
   "metadata": {},
   "outputs": [],
   "source": [
    "# Uncomment to load the local package rather than the pip-installed version.\n",
    "# Add project src to path.\n",
    "import set_path"
   ]
  },
  {
   "cell_type": "code",
   "execution_count": null,
   "id": "8adb4173-257d-49f2-9b20-c5af54f642b5",
   "metadata": {},
   "outputs": [],
   "source": [
    "# Import modules.\n",
    "import numpy as np\n",
    "import open3d as o3d\n",
    "\n",
    "import src.utils.math_utils as math_utils\n",
    "import src.utils.plot_utils as plot_utils\n",
    "import src.utils.las_utils as las_utils"
   ]
  },
  {
   "cell_type": "markdown",
   "id": "cdff3b7d",
   "metadata": {},
   "source": [
    "#### Load datasets"
   ]
  },
  {
   "cell_type": "code",
   "execution_count": null,
   "id": "0d4acc53",
   "metadata": {},
   "outputs": [],
   "source": [
    "ahn_tree_path = './datasets/single_selection/single_121913_487434_AHN.las'\n",
    "cyclo_tree_path = './datasets/single_selection/single_121913_487434_Cyclo.las'\n",
    "sonarski_tree_path = './datasets/single_selection/single_121913_487434_Sonarski.las'"
   ]
  },
  {
   "cell_type": "code",
   "execution_count": null,
   "id": "6fbec70e",
   "metadata": {},
   "outputs": [],
   "source": [
    "ahn_las = las_utils.read_las(ahn_tree_path)\n",
    "cyclo_las = las_utils.read_las(cyclo_tree_path)\n",
    "sonarski_las = las_utils.read_las(sonarski_tree_path)"
   ]
  },
  {
   "cell_type": "markdown",
   "id": "ce1793e2-878e-4224-becb-37476e3e25a1",
   "metadata": {},
   "source": [
    "## 1. Dataset statistics"
   ]
  },
  {
   "cell_type": "code",
   "execution_count": null,
   "id": "7b705be4",
   "metadata": {},
   "outputs": [],
   "source": [
    "def cloud_statistics(las):\n",
    "    n = las...\n",
    "    x_range = las.headers.offset...\n",
    "    y_range = las.headers.offset...\n",
    "    z_range = las.headers.offset...\n",
    "    avg_density = \n",
    "\n",
    "    print('hi :)')"
   ]
  },
  {
   "cell_type": "code",
   "execution_count": null,
   "id": "b6d2c545",
   "metadata": {},
   "outputs": [],
   "source": [
    "for tree_pcd in tree_pcds:\n",
    "    las_utils.cloud_statistics(tree_pcd)"
   ]
  },
  {
   "cell_type": "code",
   "execution_count": null,
   "id": "8bf7ce7f",
   "metadata": {},
   "outputs": [],
   "source": []
  }
 ],
 "metadata": {
  "kernelspec": {
   "display_name": "Python 3 (ipykernel)",
   "language": "python",
   "name": "python3"
  },
  "language_info": {
   "codemirror_mode": {
    "name": "ipython",
    "version": 3
   },
   "file_extension": ".py",
   "mimetype": "text/x-python",
   "name": "python",
   "nbconvert_exporter": "python",
   "pygments_lexer": "ipython3",
   "version": "3.8.12"
  }
 },
 "nbformat": 4,
 "nbformat_minor": 5
}
