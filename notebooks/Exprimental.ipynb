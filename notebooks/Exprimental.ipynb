{
 "cells": [
  {
   "cell_type": "markdown",
   "id": "c3fd9730-0dc5-4520-a485-b2445c984820",
   "metadata": {},
   "source": [
    "# Pointcloud Tree Analysis\n",
    "An experimental notebook\n",
    "\n",
    "We will compare and analyse isolated trees using three different point cloud sources:\n",
    "1. _[AHN](https://www.ahn.nl) data_ (publicly available)\n",
    "2. _Cyclo Media_\n",
    "3. _Sonarski_\n",
    "\n",
    "A visual impression of what the an isolated three looks like in the three datasets. \n",
    "This particular tree is located at 1219.13, 4874.34 (LTR: AHN, CycloMedia, Sonarski):\n",
    "\n",
    "![Comparison of datasets (side-view)](../imgs/20_side.png)\n",
    "![Comparison of datasets (top-view)](../imgs/20_top.png)"
   ]
  },
  {
   "cell_type": "markdown",
   "id": "e3278c49",
   "metadata": {},
   "source": [
    "#### Import Modules"
   ]
  },
  {
   "cell_type": "code",
   "execution_count": 1,
   "id": "57f542f8-21bf-4382-bfb9-11b11b05802b",
   "metadata": {},
   "outputs": [],
   "source": [
    "# Uncomment to load the local package rather than the pip-installed version.\n",
    "# Add project src to path.\n",
    "import set_path"
   ]
  },
  {
   "cell_type": "code",
   "execution_count": 2,
   "id": "8adb4173-257d-49f2-9b20-c5af54f642b5",
   "metadata": {},
   "outputs": [],
   "source": [
    "# Import modules.\n",
    "import numpy as np\n",
    "import open3d as o3d\n",
    "\n",
    "import utils.math_utils as math_utils\n",
    "import utils.plot_utils as plot_utils\n",
    "import utils.las_utils as las_utils"
   ]
  },
  {
   "cell_type": "markdown",
   "id": "cdff3b7d",
   "metadata": {},
   "source": [
    "#### Load datasets"
   ]
  },
  {
   "cell_type": "code",
   "execution_count": 3,
   "id": "0d4acc53",
   "metadata": {},
   "outputs": [],
   "source": [
    "ahn_tree_path = '../datasets/single_selection/single_121913_487434_AHN.las'\n",
    "cyclo_tree_path = '../datasets/single_selection/single_121913_487434_Cyclo.las'\n",
    "sonarski_tree_path = '../datasets/single_selection/single_121913_487434_Sonarski.las'"
   ]
  },
  {
   "cell_type": "code",
   "execution_count": 4,
   "id": "6fbec70e",
   "metadata": {},
   "outputs": [],
   "source": [
    "las_files = {\n",
    "    'AHN': las_utils.read_las(ahn_tree_path), \n",
    "    'CycloMedia': las_utils.read_las(cyclo_tree_path),\n",
    "    'Sonarski': las_utils.read_las(sonarski_tree_path)\n",
    "}"
   ]
  },
  {
   "cell_type": "markdown",
   "id": "ce1793e2-878e-4224-becb-37476e3e25a1",
   "metadata": {},
   "source": [
    "## 1. Dataset statistics"
   ]
  },
  {
   "cell_type": "code",
   "execution_count": 10,
   "id": "b6d2c545",
   "metadata": {},
   "outputs": [
    {
     "name": "stdout",
     "output_type": "stream",
     "text": [
      "Pointcloud Statistics:\n",
      "------------------------\n",
      "No. points: 168265\n",
      "Mean distance: 0.04 m\n",
      "x: 12.86 m [121906.94 121919.8 ]\n",
      "y: 12.6 m [487427.54 487440.14]\n",
      "z: 15.27 m [ 1.71 16.98]\n",
      "\n"
     ]
    }
   ],
   "source": [
    "las_utils.print_statistics(las_files['CycloMedia'])"
   ]
  },
  {
   "cell_type": "markdown",
   "id": "91416b1f",
   "metadata": {},
   "source": [
    "#### Open3D experiments"
   ]
  },
  {
   "cell_type": "code",
   "execution_count": 5,
   "id": "98182671",
   "metadata": {},
   "outputs": [
    {
     "data": {
      "text/plain": [
       "PointCloud with 168265 points."
      ]
     },
     "execution_count": 5,
     "metadata": {},
     "output_type": "execute_result"
    }
   ],
   "source": [
    "cyclo_pcd = las_utils.to_o3d(las_files['CycloMedia'])\n",
    "cyclo_pcd.estimate_normals(o3d.geometry.KDTreeSearchParamRadius(.15))\n",
    "cyclo_pcd"
   ]
  },
  {
   "cell_type": "code",
   "execution_count": 15,
   "id": "9c117b45",
   "metadata": {},
   "outputs": [
    {
     "name": "stdout",
     "output_type": "stream",
     "text": [
      "Radius oulier removal\n"
     ]
    }
   ],
   "source": [
    "# Outlier Selection\n",
    "def outlier_removal(pcd):\n",
    "    print(\"Radius oulier removal\")\n",
    "    cl, ind = pcd.remove_radius_outlier(nb_points=2, radius=0.3)\n",
    "\n",
    "    inlier_cloud = pcd.select_by_index(ind)\n",
    "    outlier_cloud = pcd.select_by_index(ind, invert=True)\n",
    "    outlier_cloud.paint_uniform_color([1, 0, 0])\n",
    "    o3d.visualization.draw_geometries([inlier_cloud, outlier_cloud])\n",
    "\n",
    "outlier_removal(cyclo_pcd)"
   ]
  },
  {
   "cell_type": "code",
   "execution_count": 17,
   "id": "842b7af7",
   "metadata": {},
   "outputs": [],
   "source": [
    "# Convex Hull\n",
    "def pcd_convex_hull(pcd):\n",
    "    hull, _ = pcd.compute_convex_hull()\n",
    "    hull_ls = o3d.geometry.LineSet.create_from_triangle_mesh(hull)\n",
    "    hull_ls.paint_uniform_color((1, 0, 0))\n",
    "    o3d.visualization.draw_geometries([pcd, hull_ls])\n",
    "\n",
    "pcd_convex_hull(cyclo_pcd)"
   ]
  },
  {
   "cell_type": "markdown",
   "id": "afeb2f94",
   "metadata": {},
   "source": [
    "![Convex Hull](../imgs/convex_hull.png)"
   ]
  },
  {
   "cell_type": "code",
   "execution_count": null,
   "id": "41ab68e6",
   "metadata": {},
   "outputs": [],
   "source": [
    "# Poisson Surface Reconstruction\n",
    "def poisson_sr(pcd):\n",
    "    mesh, densities = o3d.geometry.TriangleMesh.create_from_point_cloud_poisson(pcd, depth=8)\n",
    "    o3d.visualization.draw_geometries([mesh])\n",
    "\n",
    "poisson_sr(cyclo_pcd)"
   ]
  }
 ],
 "metadata": {
  "kernelspec": {
   "display_name": "tree_env",
   "language": "python",
   "name": "tree_env"
  },
  "language_info": {
   "codemirror_mode": {
    "name": "ipython",
    "version": 3
   },
   "file_extension": ".py",
   "mimetype": "text/x-python",
   "name": "python",
   "nbconvert_exporter": "python",
   "pygments_lexer": "ipython3",
   "version": "3.10.7"
  }
 },
 "nbformat": 4,
 "nbformat_minor": 5
}
