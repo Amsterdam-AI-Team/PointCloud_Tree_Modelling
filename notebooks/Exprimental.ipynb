{
 "cells": [
  {
   "cell_type": "markdown",
   "id": "c3fd9730-0dc5-4520-a485-b2445c984820",
   "metadata": {},
   "source": [
    "# Pointcloud Tree Analysis\n",
    "An experimental notebook\n",
    "\n",
    "We will compare and analyse isolated trees using three different point cloud sources:\n",
    "1. _[AHN](https://www.ahn.nl) data_ (publicly available)\n",
    "2. _Cyclo Media_\n",
    "3. _Sonarski_\n",
    "\n",
    "A visual impression of what the an isolated three looks like in the three datasets. \n",
    "This particular tree is located at 1219.13, 4874.34 (LTR: AHN, CycloMedia, Sonarski):\n",
    "\n",
    "![Comparison of datasets (side-view)](../imgs/20_side.png)\n",
    "![Comparison of datasets (top-view)](../imgs/20_top.png)"
   ]
  },
  {
   "cell_type": "markdown",
   "id": "e3278c49",
   "metadata": {},
   "source": [
    "#### Import Modules"
   ]
  },
  {
   "cell_type": "code",
   "execution_count": null,
   "id": "57f542f8-21bf-4382-bfb9-11b11b05802b",
   "metadata": {},
   "outputs": [],
   "source": [
    "# Uncomment to load the local package rather than the pip-installed version.\n",
    "# Add project src to path.\n",
    "import set_path"
   ]
  },
  {
   "cell_type": "code",
   "execution_count": null,
   "id": "8adb4173-257d-49f2-9b20-c5af54f642b5",
   "metadata": {},
   "outputs": [],
   "source": [
    "# Import modules.\n",
    "import numpy as np\n",
    "import open3d as o3d\n",
    "import matplotlib.pyplot as plt\n",
    "from tqdm import tqdm\n",
    "from shapely.geometry import Polygon\n",
    "from scipy.spatial import ConvexHull\n",
    "\n",
    "import utils.math_utils as math_utils\n",
    "import utils.plot_utils as plot_utils\n",
    "import utils.las_utils as las_utils"
   ]
  },
  {
   "cell_type": "markdown",
   "id": "cdff3b7d",
   "metadata": {},
   "source": [
    "#### Load datasets"
   ]
  },
  {
   "cell_type": "code",
   "execution_count": null,
   "id": "0d4acc53",
   "metadata": {},
   "outputs": [],
   "source": [
    "ahn_tree_path = '../datasets/single_selection/single_121913_487434_AHN.las'\n",
    "cyclo_tree_path = '../datasets/single_selection/single_121913_487434_Cyclo.las'\n",
    "sonarski_tree_path = '../datasets/single_selection/single_121913_487434_Sonarski.las'"
   ]
  },
  {
   "cell_type": "code",
   "execution_count": null,
   "id": "6fbec70e",
   "metadata": {},
   "outputs": [],
   "source": [
    "las_files = {\n",
    "    'AHN': las_utils.read_las(ahn_tree_path), \n",
    "    'CycloMedia': las_utils.read_las(cyclo_tree_path),\n",
    "    'Sonarski': las_utils.read_las(sonarski_tree_path)\n",
    "}"
   ]
  },
  {
   "cell_type": "markdown",
   "id": "ce1793e2-878e-4224-becb-37476e3e25a1",
   "metadata": {},
   "source": [
    "## 1. Dataset statistics"
   ]
  },
  {
   "cell_type": "code",
   "execution_count": null,
   "id": "b6d2c545",
   "metadata": {},
   "outputs": [],
   "source": [
    "las_utils.print_statistics(las_files['CycloMedia'])"
   ]
  },
  {
   "cell_type": "markdown",
   "id": "91416b1f",
   "metadata": {},
   "source": [
    "#### Open3D experiments"
   ]
  },
  {
   "cell_type": "code",
   "execution_count": null,
   "id": "98182671",
   "metadata": {},
   "outputs": [],
   "source": [
    "cyclo_pcd = las_utils.to_o3d(las_files['CycloMedia'])\n",
    "cyclo_pcd.estimate_normals(o3d.geometry.KDTreeSearchParamRadius(.15))\n",
    "cyclo_pcd"
   ]
  },
  {
   "cell_type": "code",
   "execution_count": null,
   "id": "9c117b45",
   "metadata": {},
   "outputs": [],
   "source": [
    "# Outlier Selection\n",
    "def outlier_removal(pcd):\n",
    "    print(\"Radius oulier removal\")\n",
    "    cl, ind = pcd.remove_radius_outlier(nb_points=2, radius=0.3)\n",
    "\n",
    "    inlier_cloud = pcd.select_by_index(ind)\n",
    "    outlier_cloud = pcd.select_by_index(ind, invert=True)\n",
    "    outlier_cloud.paint_uniform_color([1, 0, 0])\n",
    "    o3d.visualization.draw_geometries([inlier_cloud, outlier_cloud])\n",
    "\n",
    "outlier_removal(cyclo_pcd)"
   ]
  },
  {
   "cell_type": "code",
   "execution_count": null,
   "id": "842b7af7",
   "metadata": {},
   "outputs": [],
   "source": [
    "# Convex Hull\n",
    "def pcd_convex_hull(pcd):\n",
    "    hull, _ = pcd.compute_convex_hull()\n",
    "    hull_ls = o3d.geometry.LineSet.create_from_triangle_mesh(hull)\n",
    "    hull_ls.paint_uniform_color((1, 0, 0))\n",
    "    o3d.visualization.draw_geometries([pcd, hull_ls])\n",
    "\n",
    "pcd_convex_hull(cyclo_pcd)"
   ]
  },
  {
   "cell_type": "markdown",
   "id": "afeb2f94",
   "metadata": {},
   "source": [
    "![Convex Hull](../imgs/convex_hull.png)"
   ]
  },
  {
   "cell_type": "code",
   "execution_count": null,
   "id": "41ab68e6",
   "metadata": {},
   "outputs": [],
   "source": [
    "# Poisson Surface Reconstruction\n",
    "def poisson_sr(pcd):\n",
    "    mesh, densities = o3d.geometry.TriangleMesh.create_from_point_cloud_poisson(pcd, depth=8)\n",
    "    o3d.visualization.draw_geometries([mesh])\n",
    "\n",
    "poisson_sr(cyclo_pcd)"
   ]
  },
  {
   "cell_type": "markdown",
   "id": "5ac18885",
   "metadata": {},
   "source": [
    "## Feature Extraction"
   ]
  },
  {
   "cell_type": "markdown",
   "id": "74315651",
   "metadata": {},
   "source": [
    "**Tree height**"
   ]
  },
  {
   "cell_type": "code",
   "execution_count": null,
   "id": "73dc58b6",
   "metadata": {},
   "outputs": [],
   "source": [
    "# Option 1\n",
    "# Substract tree pointcloud max and min.\n",
    "def tree_height(las):\n",
    "    height = las.xyz[:,2].max() - las.xyz[:,2].min()\n",
    "    return height\n",
    "\n",
    "# Option 2: \n",
    "# Compare tree cloud max with AHN (maaiveld) \n",
    "def tree_height_ahn(las, ahn):\n",
    "    ground_z = None # TODO: z value at root.\n",
    "    tree_max_z = las.xyz[:,2].max()\n",
    "    height = tree_max_z - ground_z"
   ]
  },
  {
   "cell_type": "markdown",
   "id": "2203b4bc",
   "metadata": {},
   "source": [
    "**Base height**\n",
    "\n",
    "Two options:\n",
    "1. Substract tree pointcloud max and min.\n",
    "2. Compare tree cloud max with AHN (maaiveld)"
   ]
  },
  {
   "cell_type": "code",
   "execution_count": null,
   "id": "e7977862",
   "metadata": {},
   "outputs": [],
   "source": [
    "def pcd_to_grid(pcd, bin_size=.1):\n",
    "        points = np.asarray(pcd.points)\n",
    "        min_x, max_x = min(points[:, 0])-.5*bin_size, max(points[:, 0])+.5*bin_size\n",
    "        min_y, max_y = min(points[:, 1])-.5*bin_size, max(points[:, 1])+.5*bin_size\n",
    "        min_z, max_z = min(points[:, 2])-.5*bin_size, max(points[:, 2])+.5*bin_size\n",
    "        dimx = max_x - min_x\n",
    "        dimy = max_y - min_y\n",
    "        dimz = max_z - min_z\n",
    "        bins = [np.uint(dimx/bin_size), np.uint(dimy/bin_size), np.uint(dimz/bin_size)]\n",
    "        hist_range = [[min_x, max_x], [min_y, max_y], [min_z, max_z]]\n",
    "        \n",
    "        counts, edges = np.histogramdd(points, range=hist_range, bins=bins)\n",
    "        origin = (hist_range[0][0]+bin_size/2,hist_range[1][0]+bin_size/2, hist_range[2][0]+bin_size/2)\n",
    "        grid = counts > 0\n",
    "\n",
    "        return grid, edges, bins, hist_range, origin"
   ]
  },
  {
   "cell_type": "code",
   "execution_count": null,
   "id": "f0bae140",
   "metadata": {},
   "outputs": [],
   "source": [
    "grid = pcd_to_grid(cyclo_pcd)[0]\n",
    "plt.imshow(np.flip(np.sum(grid, axis=1).T>0))"
   ]
  },
  {
   "cell_type": "code",
   "execution_count": null,
   "id": "c34e4a4a",
   "metadata": {},
   "outputs": [],
   "source": [
    "# TODO: prone to hanging branches \n",
    "\n",
    "pcd = cyclo_pcd\n",
    "\n",
    "bin_size = 0.15\n",
    "points = np.asarray(pcd.points)\n",
    "min_z, max_z = min(points[:, 2])-bin_size, max(points[:, 2])+bin_size\n",
    "bins = np.arange(min_z, max_z, 0.1)\n",
    "\n",
    "slice_ind = np.digitize(points[:,2], bins, right=True)\n",
    "\n",
    "data = []\n",
    "hulls = []\n",
    "for i in np.unique(slice_ind):\n",
    "    slice_mask = slice_ind==i\n",
    "    if np.sum(slice_mask) > 3:\n",
    "        slice_pts = points[slice_mask, :2]\n",
    "        hull_pts = slice_pts[ConvexHull(slice_pts).vertices]\n",
    "        hull_poly = Polygon(hull_pts)\n",
    "        omtrek = hull_poly.length\n",
    "        z = bins[i] - .5*bin_size\n",
    "        data.append((z, omtrek))\n",
    "        hulls.append(hull_poly)\n",
    "\n",
    "base_i = np.argmax(np.array(data)[1:,1] - np.array(data)[:-1,1]  > .5)+1\n",
    "plt.barh(np.array(data)[:base_i,0], np.array(data)[:base_i,1], height=0.05, color='brown')\n",
    "plt.barh(np.array(data)[base_i:,0], np.array(data)[base_i:,1], height=0.05, color='green')\n",
    "plt.ylabel('z-value')\n",
    "plt.xlabel('Omtrek (m)')\n",
    "\n",
    "base_height = data[base_i][0] - min(points[:, 2])\n",
    "print('Base height:', np.round(base_height,2))"
   ]
  },
  {
   "cell_type": "markdown",
   "id": "8713e0bd",
   "metadata": {},
   "source": [
    "## Stem Features"
   ]
  },
  {
   "cell_type": "code",
   "execution_count": null,
   "id": "5ee18669",
   "metadata": {},
   "outputs": [],
   "source": [
    "from skimage.measure import CircleModel, ransac\n",
    "from sklearn.neighbors import NearestNeighbors"
   ]
  },
  {
   "cell_type": "code",
   "execution_count": null,
   "id": "f636c9d8",
   "metadata": {},
   "outputs": [],
   "source": [
    "def rodrigues_rot(points, vector1, vector2):\n",
    "    \"\"\"RODRIGUES ROTATION\n",
    "    - Rotate given points based on a starting and ending vector\n",
    "    - Axis k and angle of rotation theta given by vectors n0,n1\n",
    "    P_rot = P*cos(theta) + (k x P)*sin(theta) + k*<k,P>*(1-cos(theta))\"\"\"\n",
    "\n",
    "    if points.ndim == 1:\n",
    "        points = points[np.newaxis, :]\n",
    "\n",
    "    vector1 = vector1 / np.linalg.norm(vector1)\n",
    "    vector2 = vector2 / np.linalg.norm(vector2)\n",
    "    k = np.cross(vector1, vector2)\n",
    "    if np.sum(k) != 0:\n",
    "        k = k / np.linalg.norm(k)\n",
    "    theta = np.arccos(np.dot(vector1, vector2))\n",
    "\n",
    "    # MATRIX MULTIPLICATION\n",
    "    P_rot = np.zeros((len(points), 3))\n",
    "    for i in range(len(points)):\n",
    "        P_rot[i] = (\n",
    "            points[i] * np.cos(theta)\n",
    "            + np.cross(k, points[i]) * np.sin(theta)\n",
    "            + k * np.dot(k, points[i]) * (1 - np.cos(theta))\n",
    "        )\n",
    "    return P_rot\n",
    "\n",
    "def circumferential_completeness_index(fitted_circle_centre, estimated_radius, slice_points):\n",
    "    \"\"\"\n",
    "    Computes the Circumferential Completeness Index (CCI) of a fitted circle.\n",
    "    Args:\n",
    "        fitted_circle_centre: x, y coords of the circle centre\n",
    "        estimated_radius: circle radius\n",
    "        slice_points: the points the circle was fitted to\n",
    "    Returns:\n",
    "        CCI\n",
    "    \"\"\"\n",
    "\n",
    "    sector_angle = 4.5  # degrees\n",
    "    num_sections = int(np.ceil(360 / sector_angle))\n",
    "    sectors = np.linspace(-180, 180, num=num_sections, endpoint=False)\n",
    "\n",
    "    centre_vectors = slice_points[:, :2] - fitted_circle_centre\n",
    "    norms = np.linalg.norm(centre_vectors, axis=1)\n",
    "\n",
    "    centre_vectors = centre_vectors / np.atleast_2d(norms).T\n",
    "    centre_vectors = centre_vectors[\n",
    "        np.logical_and(norms >= 0.8 * estimated_radius, norms <= 1.2 * estimated_radius)\n",
    "    ]\n",
    "\n",
    "    sector_vectors = np.vstack((np.cos(sectors), np.sin(sectors))).T\n",
    "    CCI = (\n",
    "        np.sum(\n",
    "            [\n",
    "                np.any(\n",
    "                    np.degrees(\n",
    "                        np.arccos(\n",
    "                            np.clip(np.einsum(\"ij,ij->i\", np.atleast_2d(sector_vector), centre_vectors), -1, 1)\n",
    "                        )\n",
    "                    )\n",
    "                    < sector_angle / 2\n",
    "                )\n",
    "                for sector_vector in sector_vectors\n",
    "            ]\n",
    "        )\n",
    "        / num_sections\n",
    "    )\n",
    "\n",
    "    return CCI\n",
    "\n",
    "def fit_circle_2D(points):\n",
    "\n",
    "    CCI = 0\n",
    "    r = 0\n",
    "    xc, yc = np.mean(points[:, :2], axis=0)\n",
    "\n",
    "    # Fit circle in new 2D coords with RANSAC\n",
    "    if points.shape[0] >= 20:\n",
    "\n",
    "        model_robust, inliers = ransac(\n",
    "            points[:, :2],\n",
    "            CircleModel,\n",
    "            min_samples=int(points.shape[0] * 0.3),\n",
    "            residual_threshold=0.05,\n",
    "            max_trials=1000,\n",
    "        )\n",
    "        xc, yc = model_robust.params[0:2]\n",
    "        r = model_robust.params[2]\n",
    "        CCI = circumferential_completeness_index([xc, yc], r, points[:, :2])\n",
    "\n",
    "    if CCI < 0.3:\n",
    "        r = 0\n",
    "        xc, yc = np.mean(points[:, :2], axis=0)\n",
    "        CCI = 0\n",
    "\n",
    "    return CCI, r, xc, yc\n",
    "\n",
    "def fit_circle_3D(points, V):\n",
    "    \"\"\"\n",
    "    Fits a circle using Random Sample Consensus (RANSAC) to a set of points in a plane perpendicular to vector V.\n",
    "    Args:\n",
    "        points: Set of points to fit a circle to using RANSAC.\n",
    "        V: Axial vector of the cylinder you're fitting.\n",
    "    Returns:\n",
    "        cyl_output: numpy array of the format [[x, y, z, x_norm, y_norm, z_norm, radius, CCI, 0, 0, 0, 0, 0, 0]]\n",
    "    \"\"\"\n",
    "\n",
    "    P = points[:, :3]\n",
    "    P_mean = np.mean(P, axis=0)\n",
    "    P_centered = P - P_mean\n",
    "    normal = V / np.linalg.norm(V)\n",
    "    if normal[2] < 0:  # if normal vector is pointing down, flip it around the other way.\n",
    "        normal = normal * -1\n",
    "\n",
    "    # Project points to coords X-Y in 2D plane\n",
    "    P_xy = rodrigues_rot(P_centered, normal, [0, 0, 1])\n",
    "\n",
    "    CCI, r, xc, yc = fit_circle_2D(P_xy)\n",
    "\n",
    "    # Transform circle center back to 3D coords\n",
    "    cyl_centre = rodrigues_rot(np.array([[xc, yc, 0]]), [0, 0, 1], normal) + P_mean\n",
    "    cyl_output = np.array(\n",
    "        [\n",
    "            [\n",
    "                cyl_centre[0, 0],\n",
    "                cyl_centre[0, 1],\n",
    "                cyl_centre[0, 2],\n",
    "                normal[0],\n",
    "                normal[1],\n",
    "                normal[2],\n",
    "                r,\n",
    "                CCI\n",
    "            ]\n",
    "        ]\n",
    "    )\n",
    "    return cyl_output\n",
    "\n",
    "def fit_cylinder(skeleton_points, point_cloud, num_neighbours):\n",
    "    \"\"\"\n",
    "    Fits a 3D line to the skeleton points cluster provided.\n",
    "    Uses this line as the major axis/axial vector of the cylinder to be fitted.\n",
    "    Fits a series of circles perpendicular to this axis to the point cloud of this particular stem segment.\n",
    "    Args:\n",
    "        skeleton_points: A single cluster of skeleton points which should represent a segment of a tree/branch.\n",
    "        point_cloud: The cluster of points belonging to the segment of the branch.\n",
    "        num_neighbours: The number of skeleton points to use for fitting each circle in the segment. lower numbers\n",
    "                        have fewer points to fit a circle to, but higher numbers are negatively affected by curved\n",
    "                        branches. Recommend leaving this as it is.\n",
    "    Returns:\n",
    "        cyl_array: a numpy array based representation of the fitted circles/cylinders.\n",
    "    \"\"\"\n",
    "\n",
    "    point_cloud = point_cloud[:, :3]\n",
    "    skeleton_points = skeleton_points[:, :3]\n",
    "    cyl_array = np.zeros((0, 8))\n",
    "    line_centre = np.mean(skeleton_points[:, :3], axis=0)\n",
    "    _, _, vh = np.linalg.svd(line_centre - skeleton_points)\n",
    "    line_v_hat = vh[0] / np.linalg.norm(vh[0])\n",
    "\n",
    "    if skeleton_points.shape[0] <= num_neighbours:\n",
    "        group = skeleton_points\n",
    "        line_centre = np.mean([np.min(group[:, :3], axis=0), np.max(group[:, :3], axis=0)], axis=0)\n",
    "        length = np.linalg.norm(np.max(group, axis=0) - np.min(group, axis=0))\n",
    "        plane_slice = point_cloud[\n",
    "            np.linalg.norm(abs(line_v_hat * (point_cloud - line_centre)), axis=1) < (length / 2)\n",
    "        ]  # calculate distances to plane at centre of line.\n",
    "        if plane_slice.shape[0] > 0:\n",
    "            cylinder = fit_circle_3D(plane_slice, line_v_hat)\n",
    "            cyl_array = np.vstack((cyl_array, cylinder))\n",
    "    else:\n",
    "        for i in tqdm(range(skeleton_points.shape[0])):\n",
    "            if skeleton_points.shape[0] > num_neighbours:\n",
    "                nn = NearestNeighbors()\n",
    "                nn.fit(skeleton_points)\n",
    "                starting_point = np.atleast_2d(skeleton_points[np.argmin(skeleton_points[:, 2])])\n",
    "                group = skeleton_points[nn.kneighbors(starting_point, n_neighbors=num_neighbours)[1][0]]\n",
    "                line_centre = np.mean(group[:, :3], axis=0)\n",
    "                length = np.linalg.norm(np.max(group, axis=0) - np.min(group, axis=0))\n",
    "                plane_slice = point_cloud[\n",
    "                    np.linalg.norm(abs(line_v_hat * (point_cloud - line_centre)), axis=1) < (length / 2)\n",
    "                ]  # calculate distances to plane at centre of line.\n",
    "                if plane_slice.shape[0] > 0:\n",
    "                    cylinder = fit_circle_3D(plane_slice, line_v_hat)\n",
    "                    cyl_array = np.vstack((cyl_array, cylinder))\n",
    "                skeleton_points = np.delete(skeleton_points, np.argmin(skeleton_points[:, 2]), axis=0)\n",
    "    return cyl_array\n",
    "    "
   ]
  },
  {
   "cell_type": "code",
   "execution_count": null,
   "id": "6ff1e5d2",
   "metadata": {},
   "outputs": [],
   "source": [
    "def slice_tree(pcd, slice_thickness=0.15):\n",
    "\n",
    "    points = np.asarray(pcd.points)\n",
    "    min_z, max_z = min(points[:, 2])-slice_thickness, max(points[:, 2])+slice_thickness\n",
    "    bins = np.arange(min_z, max_z, 0.1)\n",
    "    slice_ind = np.digitize(points[:,2], bins, right=True)\n",
    "\n",
    "    skeleton_points = np.zeros((0, 3))\n",
    "    stem_points = np.zeros((0, 3))\n",
    "    foliage_points = np.zeros((0, 3))\n",
    "    for i in np.unique(slice_ind):\n",
    "        new_slice = points[slice_ind==i]\n",
    "        if i < 39: \n",
    "            if new_slice.shape[0] > 0:\n",
    "                median = np.median(new_slice, axis=0)\n",
    "                skeleton_points = np.vstack((skeleton_points, median))\n",
    "                stem_points = np.vstack((stem_points, new_slice))\n",
    "        else:\n",
    "            foliage_points = np.vstack((foliage_points, new_slice))\n",
    "\n",
    "        if i == 15:\n",
    "            s_slice = (new_slice, median)\n",
    "\n",
    "    return skeleton_points, stem_points, foliage_points, s_slice\n",
    "    "
   ]
  },
  {
   "cell_type": "code",
   "execution_count": null,
   "id": "2a052a9b",
   "metadata": {},
   "outputs": [],
   "source": [
    "skeleton_points, stem_points, foliage_points, s_slice = slice_tree(cyclo_pcd)"
   ]
  },
  {
   "cell_type": "code",
   "execution_count": null,
   "id": "1e864de2",
   "metadata": {},
   "outputs": [],
   "source": [
    "results = fit_cylinder(skeleton_points, stem_points, 2)"
   ]
  },
  {
   "cell_type": "code",
   "execution_count": null,
   "id": "44ff0d4d",
   "metadata": {},
   "outputs": [],
   "source": [
    "fit_circle_3D(s_slice[0], np.array([0,0,1]))"
   ]
  },
  {
   "cell_type": "code",
   "execution_count": null,
   "id": "a98cc379",
   "metadata": {},
   "outputs": [],
   "source": [
    "pcds= []\n",
    "\n",
    "for result in results:\n",
    "    centre = result[:3]\n",
    "    normal = result[3:6]\n",
    "    r = result[6]\n",
    "    CCI = result[7]\n",
    "\n",
    "    line_points = np.zeros((0,3))\n",
    "    for i in range(18):\n",
    "        phi = i*np.pi/9\n",
    "        line_points = np.vstack((line_points, (centre[0] + r*np.cos(phi), centre[1] + r*np.sin(phi), centre[2])))\n",
    "\n",
    "    lines = [(i,i+1) for i in range(17)]\n",
    "    colors = [[0, 0, 0] for i in range(len(lines))]\n",
    "\n",
    "    line_set = o3d.geometry.LineSet()\n",
    "    line_set.points = o3d.utility.Vector3dVector(line_points)\n",
    "    line_set.lines = o3d.utility.Vector2iVector(lines)\n",
    "    line_set.colors = o3d.utility.Vector3dVector(colors)\n",
    "    pcds.append(line_set)\n",
    "\n",
    "foliage = o3d.geometry.PointCloud(o3d.utility.Vector3dVector(foliage_points))\n",
    "foliage = foliage.paint_uniform_color([0.1,.6,0.1])\n",
    "pcds.append(foliage)\n",
    "\n",
    "stem = o3d.geometry.PointCloud(o3d.utility.Vector3dVector(stem_points))\n",
    "stem = stem.paint_uniform_color([0.5,0.3,0.05])\n",
    "pcds.append(stem)\n",
    "\n",
    "o3d.visualization.draw_geometries(pcds)\n"
   ]
  },
  {
   "cell_type": "markdown",
   "id": "f303be58",
   "metadata": {},
   "source": [
    "#### Branch split"
   ]
  },
  {
   "cell_type": "code",
   "execution_count": null,
   "id": "715e8862",
   "metadata": {},
   "outputs": [],
   "source": [
    "from plyfile import PlyData, PlyElement"
   ]
  },
  {
   "cell_type": "code",
   "execution_count": null,
   "id": "edafff7a",
   "metadata": {},
   "outputs": [],
   "source": [
    "# Read ply tree skeleton file\n",
    "plydata = PlyData.read('./tree7_skeleton.ply')\n",
    "\n",
    "# Convert to points\n",
    "vertices = np.array([[c for c in p] for p in plydata['vertex'].data])\n",
    "new_vertices, reverse_ = np.unique(vertices, axis=0, return_inverse=True)\n",
    "new_edges = np.array([reverse_[edge[0]] for edge in plydata['edge'].data])\n",
    "\n",
    "# Branch Split Indices\n",
    "u, c = np.unique(new_edges[:,0], return_counts=True)\n",
    "branchsplit_ind = u[c > 1]"
   ]
  },
  {
   "cell_type": "code",
   "execution_count": null,
   "id": "1fb316b4",
   "metadata": {},
   "outputs": [],
   "source": [
    "skeleton_pcd = o3d.geometry.PointCloud(o3d.utility.Vector3dVector(new_vertices))\n",
    "skeleton_pcd = skeleton_pcd.paint_uniform_color([0.5,0.5,0.5])\n",
    "\n",
    "sp_pcd = o3d.geometry.PointCloud(o3d.utility.Vector3dVector(new_vertices[branchsplit_ind]))\n",
    "sp_pcd = sp_pcd.paint_uniform_color([1,0,0])\n",
    "\n",
    "o3d.visualization.draw_geometries([skeleton_pcd,sp_pcd])"
   ]
  },
  {
   "cell_type": "code",
   "execution_count": null,
   "id": "4b4d6256",
   "metadata": {},
   "outputs": [],
   "source": [
    "import networkx as nx\n",
    "\n",
    "def create_graph(vertices, edges):\n",
    "\n",
    "    graph = nx.DiGraph()\n",
    "\n",
    "    for i, vertex in enumerate(new_vertices):\n",
    "        graph.add_node(i, x=vertex[0],y=vertex[1],z=vertex[2])\n",
    "\n",
    "    for i,j in new_edges:\n",
    "        graph.add_edge(i, j)\n",
    "\n",
    "    return graph\n",
    "\n",
    "def branch_path(graph, start):\n",
    "\n",
    "    path = [start]\n",
    "    while graph.out_degree(path[-1]) == 1:\n",
    "        for node in graph.successors(path[-1]):\n",
    "            path.append(node)\n",
    "            break\n",
    "\n",
    "    print(path[0], '-->', path[-1], '(nodes:',len(path),')')\n",
    "    return path\n",
    "\n",
    "# def get_first_split(graph):\n",
    "    "
   ]
  },
  {
   "cell_type": "code",
   "execution_count": null,
   "id": "af63e8c0",
   "metadata": {},
   "outputs": [],
   "source": [
    "graph = create_graph(new_vertices, new_edges)"
   ]
  },
  {
   "cell_type": "code",
   "execution_count": null,
   "id": "6c96589e",
   "metadata": {},
   "outputs": [],
   "source": [
    "# get stem till first split\n",
    "start = np.argmin(new_vertices[:,2])\n",
    "stem_path = branch_path(graph, start)"
   ]
  },
  {
   "cell_type": "code",
   "execution_count": null,
   "id": "75d7afcd",
   "metadata": {},
   "outputs": [],
   "source": [
    "mask = np.ones(graph.order(), dtype=bool)\n",
    "mask[stem_path] = False\n",
    "lowest_branch_node = np.where(mask)[0][np.argmin(new_vertices[mask,2])]\n",
    "path_to_stem = nx.shortest_path(graph, source=stem_path[-1], target=lowest_branch_node)\n",
    "path_to_stem"
   ]
  },
  {
   "cell_type": "code",
   "execution_count": null,
   "id": "3079562e",
   "metadata": {},
   "outputs": [],
   "source": [
    "branch = list(nx.nodes(nx.dfs_tree(graph, 6614)))"
   ]
  },
  {
   "cell_type": "code",
   "execution_count": null,
   "id": "91e208e3",
   "metadata": {},
   "outputs": [],
   "source": [
    "skeleton_pcd = o3d.geometry.PointCloud(o3d.utility.Vector3dVector(new_vertices))\n",
    "\n",
    "tree_pcd = skeleton_pcd.select_by_index(branch+path_to_stem, invert=True)\n",
    "tree_pcd = tree_pcd.paint_uniform_color([.5,.5,1])\n",
    "\n",
    "brach_pcd = skeleton_pcd.select_by_index(branch)\n",
    "brach_pcd = brach_pcd.paint_uniform_color([1,.8,.4])\n",
    "\n",
    "to_stem_pcd = skeleton_pcd.select_by_index(path_to_stem)\n",
    "to_stem_pcd = to_stem_pcd.paint_uniform_color([.2,.2,.5])\n",
    "\n",
    "o3d.visualization.draw_geometries([tree_pcd,brach_pcd, to_stem_pcd])"
   ]
  },
  {
   "cell_type": "code",
   "execution_count": null,
   "id": "b07a76f3",
   "metadata": {},
   "outputs": [],
   "source": [
    "# NEXT STEP\n",
    "\n",
    "# Lowest branch after each segment."
   ]
  },
  {
   "cell_type": "code",
   "execution_count": null,
   "id": "a768a7bd",
   "metadata": {},
   "outputs": [],
   "source": [
    "skeleton_points = new_vertices[stem_path]"
   ]
  },
  {
   "cell_type": "code",
   "execution_count": null,
   "id": "c0fb2498",
   "metadata": {},
   "outputs": [],
   "source": []
  }
 ],
 "metadata": {
  "kernelspec": {
   "display_name": "tree_env",
   "language": "python",
   "name": "tree_env"
  },
  "language_info": {
   "codemirror_mode": {
    "name": "ipython",
    "version": 3
   },
   "file_extension": ".py",
   "mimetype": "text/x-python",
   "name": "python",
   "nbconvert_exporter": "python",
   "pygments_lexer": "ipython3",
   "version": "3.10.7 (main, Sep 15 2022, 01:50:27) [Clang 12.0.0 (clang-1200.0.32.29)]"
  }
 },
 "nbformat": 4,
 "nbformat_minor": 5
}
