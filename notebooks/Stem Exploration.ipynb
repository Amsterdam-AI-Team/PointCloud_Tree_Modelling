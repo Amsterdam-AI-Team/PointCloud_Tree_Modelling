{
 "cells": [
  {
   "attachments": {},
   "cell_type": "markdown",
   "metadata": {},
   "source": [
    "# Stem Exploration\n",
    "\n",
    "This notebook provides code to analyse and explore point cloud tree stems. As input you can either use an already separated stem point cloud or use a complete tree and use the provided separation code (see `option B` in step 1)\n",
    "\n",
    "---------------"
   ]
  },
  {
   "attachments": {},
   "cell_type": "markdown",
   "metadata": {},
   "source": [
    "##### Imports"
   ]
  },
  {
   "cell_type": "code",
   "execution_count": null,
   "metadata": {},
   "outputs": [],
   "source": [
    "# Add project src to path.\n",
    "import set_path\n",
    "\n",
    "# Import modules.\n",
    "import os\n",
    "import glob\n",
    "from tqdm import tqdm\n",
    "from pathlib import Path\n",
    "import pandas as pd\n",
    "import trimesh\n",
    "import numpy as np\n",
    "import open3d as o3d\n",
    "import logging as log\n",
    "import tree as tree_utils\n",
    "import utils.o3d_utils as o3d_utils\n",
    "import utils.plot_utils as plot_utils\n",
    "import utils.ahn_utils as ahn_utils\n",
    "import utils.las_utils as las_utils\n",
    "import utils.math_utils as math_utils\n",
    "from misc.fitcyclinders import fit_vertical_cylinder_3D\n",
    "from utils.interpolation import FastGridInterpolator\n",
    "\n",
    "import matplotlib.pyplot as plt\n",
    "from scipy.ndimage import gaussian_filter1d\n",
    "\n",
    "from labels import Labels"
   ]
  },
  {
   "attachments": {},
   "cell_type": "markdown",
   "metadata": {},
   "source": [
    "### 1. Load Data\n",
    "---"
   ]
  },
  {
   "attachments": {},
   "cell_type": "markdown",
   "metadata": {},
   "source": [
    "**Option A**: Load stem point cloud"
   ]
  },
  {
   "cell_type": "code",
   "execution_count": null,
   "metadata": {},
   "outputs": [],
   "source": [
    "treecode = '119305_485108'\n",
    "# las_file = '../datasets/sonarski/sonarski_'+treecode+'.las'\n",
    "# las_file = '../datasets/ahn/ahn_'+treecode+'.las'\n",
    "las_file = '../../../datasets/clipped_trees/clipped_trees_ahn/single/single_'+treecode+'.las'\n",
    "\n",
    "tree_cloud = o3d_utils.read_las(las_file)\n",
    "\n",
    "voxel_size = 0.05\n",
    "tree_cloud_voxeled = tree_cloud.voxel_down_sample(voxel_size)"
   ]
  },
  {
   "cell_type": "code",
   "execution_count": null,
   "metadata": {},
   "outputs": [],
   "source": [
    "o3d.visualization.draw_geometries([tree_cloud_voxeled])"
   ]
  },
  {
   "attachments": {},
   "cell_type": "markdown",
   "metadata": {},
   "source": [
    "### 2. Stem Analysis\n",
    "---"
   ]
  },
  {
   "cell_type": "code",
   "execution_count": null,
   "metadata": {},
   "outputs": [],
   "source": [
    "# def crown_base_height(pcd, z_min=None, z_step=.1, th=.3):\n",
    "\n",
    "#     # Vertical density\n",
    "#     z = np.asarray(pcd.points)[:,2]\n",
    "#     z_bins = np.arange(z.min(), z.max()+z_step, z_step)\n",
    "#     hist, bin_edges = np.histogram(z, z_bins)\n",
    "\n",
    "#     # Find inflection (smooth)\n",
    "#     smooth = gaussian_filter1d(hist, 2)\n",
    "#     smooth[smooth == 0] = 1\n",
    "#     change = (smooth[1:]-smooth[:-1]) / smooth[:-1]\n",
    "#     z_ind = np.argmax(change > th) + 1\n",
    "#     # plt.barh(np.arange(len(smooth)), smooth, height=.8, alpha=.5)\n",
    "#     # plt.hlines(z_ind, 0, np.max(hist), linestyles='--', color='r')\n",
    "\n",
    "#     z_split = bin_edges[z_ind]+z_step/2\n",
    "\n",
    "#     return z_split\n",
    "\n",
    "def has_stem(pcd, z_min=0, z_step=.1, min_points=20, th=.8):\n",
    "    z = np.asarray(pcd.points)[:,2]\n",
    "    z_max = z_min + 2\n",
    "    z = z[z<z_max]\n",
    "    z_bins = np.arange(z_min, z_max+z_step, z_step)\n",
    "    hist, bin_edges = np.histogram(z, z_bins)\n",
    "    if len(hist) > 0:\n",
    "        d = hist > min_points\n",
    "        return np.sum(d) / len(d) > th\n",
    "    else:\n",
    "        return False\n",
    "\n",
    "def get_all_stem_infos(datasets=['ahn','cyclomedia','sonarski']):\n",
    "    records = []\n",
    "\n",
    "    data_root = Path('../../../datasets/clipped_trees/')\n",
    "    file_types = ('.LAS', '.las', '.LAZ', '.laz')\n",
    "\n",
    "    # parameters\n",
    "    voxel_size = 0.05\n",
    "\n",
    "    for dataset in datasets:\n",
    "        in_folder = data_root.joinpath('clipped_trees_'+dataset+'/single/')\n",
    "\n",
    "        files = []\n",
    "\n",
    "        for f in in_folder.glob('*'):\n",
    "            if f.name.endswith(file_types):\n",
    "                files.append(f)\n",
    "\n",
    "        for file in tqdm(files):\n",
    "            treecode = las_utils.get_treecode_from_filename(file.name)\n",
    "            \n",
    "            # load las\n",
    "            tree_cloud = o3d_utils.read_las(file)\n",
    "            tree_cloud_voxeled = tree_cloud.voxel_down_sample(voxel_size)\n",
    "\n",
    "            z_split = crown_base_height(tree_cloud_voxeled)\n",
    "            stem = has_stem(tree_cloud_voxeled, z_split)\n",
    "\n",
    "            records.append({'treecode':treecode,'data':dataset,'split':z_split,'stem':stem})\n",
    "\n",
    "    return pd.DataFrame(records)\n"
   ]
  },
  {
   "cell_type": "code",
   "execution_count": null,
   "metadata": {},
   "outputs": [],
   "source": [
    "df = get_all_stem_infos()"
   ]
  },
  {
   "cell_type": "code",
   "execution_count": null,
   "metadata": {},
   "outputs": [],
   "source": [
    "df[df['split']>1]"
   ]
  },
  {
   "cell_type": "code",
   "execution_count": null,
   "metadata": {},
   "outputs": [],
   "source": [
    "treecode = '121913_487434'\n",
    "las_file = '../datasets/ahn/ahn_'+treecode+'.las'\n",
    "treecode = las_utils.get_treecode_from_filename(las_file)\n",
    "pcd = o3d_utils.read_las(las_file)\n",
    "\n",
    "ahn_data_folder = '../datasets/ahn_surf/'\n",
    "npz_reader = ahn_utils.NPZReader(ahn_data_folder)\n",
    "tree_z_min = npz_reader.tree_surface_z(treecode)[0]"
   ]
  },
  {
   "attachments": {},
   "cell_type": "markdown",
   "metadata": {},
   "source": [
    "### Stem vis\n",
    "---"
   ]
  },
  {
   "cell_type": "code",
   "execution_count": null,
   "metadata": {},
   "outputs": [],
   "source": [
    "from misc.fitcyclinders import fit_vertical_cylinder_3D\n",
    "\n",
    "ahn_data_folder = '../datasets/waternet_set/ahn_surf/'\n",
    "npz_reader = ahn_utils.NPZReader(ahn_data_folder)"
   ]
  },
  {
   "cell_type": "code",
   "execution_count": null,
   "metadata": {},
   "outputs": [],
   "source": [
    "treecode = '119657_484841'\n",
    "tree_min_z = npz_reader.tree_surface_z(treecode)\n",
    "\n",
    "las_file = '../datasets/waternet_set/clipped/cyclo_119667_484841_Tilia_4.las'\n",
    "\n",
    "# sonarski_cloud = o3d_utils.read_las('../datasets/sonarski/sonarski_'+treecode+'.las')\n",
    "cyclo_cloud = o3d_utils.read_las(las_file)"
   ]
  },
  {
   "cell_type": "code",
   "execution_count": null,
   "metadata": {},
   "outputs": [],
   "source": [
    "def slice_pcd(pcd, z, height):\n",
    "    points = np.array(pcd.points)\n",
    "    mask = (points[:,2] >= z - height/2) & (points[:,2] <= z + height/2)\n",
    "    slice_pcd = pcd.select_by_index(np.where(mask)[0])\n",
    "    return slice_pcd"
   ]
  },
  {
   "cell_type": "code",
   "execution_count": null,
   "metadata": {},
   "outputs": [],
   "source": [
    "def plot_stem_slice(pcd, z, width, center):\n",
    "\n",
    "    sample = slice_pcd(pcd, z, width)\n",
    "\n",
    "    fig = plt.figure(figsize=(5,5))\n",
    "    ax = fig.add_subplot(projection='3d')\n",
    "    points = np.array(sample.points)\n",
    "    points -= center\n",
    "    xs, ys, zs = points.T\n",
    "    colors = np.asarray(sample.colors)\n",
    "    img = ax.scatter(xs, ys, zs, s=3, c=colors)\n",
    "\n",
    "    ax.set_xlabel('Meter')\n",
    "    ax.set_ylabel('Meter')\n",
    "    ax.set_zlabel('Meter')\n",
    "    ax.set_xlim(-1,1)\n",
    "    ax.set_ylim(-1,1)\n",
    "    ax.set_zlim(-1,1)\n",
    "    ax.view_init(25,-65)\n",
    "    plt.savefig('stem_slice.png', transparent=True)\n",
    "    plt.show()"
   ]
  },
  {
   "cell_type": "code",
   "execution_count": null,
   "metadata": {},
   "outputs": [],
   "source": [
    "pcd_ = slice_pcd(cyclo_cloud, tree_min_z+1.3, .4)\n",
    "center_ = pcd_.get_center()"
   ]
  },
  {
   "cell_type": "code",
   "execution_count": null,
   "metadata": {},
   "outputs": [],
   "source": [
    "plot_stem_slice(cyclo_cloud, tree_min_z+1.3, .4, center_)"
   ]
  },
  {
   "cell_type": "code",
   "execution_count": null,
   "metadata": {},
   "outputs": [],
   "source": [
    "sample = slice_pcd(cld, tree_min_z+1.3, .4)\n",
    "\n",
    "points = np.array(sample.points)\n",
    "points -= np.mean(points, axis=0)\n",
    "xs, ys, zs = points.T\n",
    "colors = np.asarray(sample.colors)\n",
    "\n",
    "# fit circle\n",
    "center, _, radius, inliers, cci = fit_vertical_cylinder_3D(points, 0.02)\n"
   ]
  },
  {
   "cell_type": "code",
   "execution_count": null,
   "metadata": {},
   "outputs": [],
   "source": [
    "fig, (ax) = plt.subplots(1, 1, figsize=(9,6))\n",
    "img = ax.scatter(xs, ys, s=2, c=colors, marker='.')\n",
    "Drawing_uncolored_circle = plt.Circle( center[:2],\n",
    "                                    radius ,\n",
    "                                    fill = False ,\n",
    "                                    color= 'red')\n",
    "ax.add_artist( Drawing_uncolored_circle )\n",
    "ax.scatter(*center[:2], marker='x', s=10, color='red')\n",
    "ax.plot([center[0],center[0]+radius],[center[1],center[1]], c='red', alpha=0.6, linestyle='--')\n",
    "ax.text(center[0]+0.05,center[1]+.02, 'r = '+str(np.round(radius,3)))\n",
    "\n",
    "ax.set_xlabel('Meter')\n",
    "ax.set_xlim(-.7,.7)\n",
    "ax.set_ylim(-.7,.7)\n",
    "ax.set_aspect('equal')\n",
    "ax.set_title('DBH')"
   ]
  },
  {
   "cell_type": "code",
   "execution_count": null,
   "metadata": {},
   "outputs": [],
   "source": [
    "from scipy.optimize import leastsq\n",
    "p = [0, 0, 0, 0, max(np.abs(ys).max(), np.abs(xs).max())/2]\n",
    "\n",
    "# fit\n",
    "fitfunc = lambda p, x, y, z: (- np.cos(p[3])*(p[0] - x) - z*np.cos(p[2])*np.sin(p[3]) - np.sin(p[2])*np.sin(p[3])*(p[1] - y))**2 + (z*np.sin(p[2]) - np.cos(p[2])*(p[1] - y))**2 #fit function\n",
    "errfunc = lambda p, x, y, z: fitfunc(p, x, y, z) - p[4]**2 #error function \n",
    "est_p = leastsq(errfunc, p, args=(xs, ys, zs), maxfev=1000)[0]\n",
    "inliers = np.where(np.abs(errfunc(est_p,xs,ys,zs))<.02)[0]"
   ]
  },
  {
   "cell_type": "code",
   "execution_count": null,
   "metadata": {},
   "outputs": [],
   "source": [
    "from pyransac3d import Circle"
   ]
  },
  {
   "cell_type": "code",
   "execution_count": null,
   "metadata": {},
   "outputs": [],
   "source": []
  },
  {
   "cell_type": "code",
   "execution_count": null,
   "metadata": {},
   "outputs": [],
   "source": [
    "from scipy.spatial.transform import Rotation as R\n",
    "\n",
    "center = np.array([est_p[0],est_p[1],0]) + center_\n",
    "radius = est_p[4]\n",
    "\n",
    "rotation = R.from_rotvec([est_p[2], 0, 0])\n",
    "axis = rotation.apply([0,0,1])\n",
    "rotation = R.from_rotvec([0, est_p[3], 0])\n",
    "axis = rotation.apply(axis)\n",
    "\n",
    "# circumferential completeness index (CCI)\n",
    "P_xy = math_utils.rodrigues_rot(points, axis, [0, 0, 1])\n",
    "CCI = math_utils.circumferential_completeness_index([est_p[0], est_p[1]], radius, P_xy)\n",
    "\n",
    "mesh = trimesh.creation.cylinder(radius=radius,\n",
    "                 sections=25, \n",
    "                 segment=(center+axis*zs.min(),center+axis*zs.max())).as_open3d\n",
    "mesh_lines = o3d.geometry.LineSet.create_from_triangle_mesh(mesh)\n",
    "mesh_lines.paint_uniform_color((0, 0, 0))\n",
    "\n",
    "inliers_pcd = sample.select_by_index(inliers)\n",
    "outlier_pcd = sample.select_by_index(inliers, invert=True)\n",
    "outlier_pcd.paint_uniform_color([1,0,0])\n",
    "\n",
    "o3d.visualization.draw_geometries([inliers_pcd, outlier_pcd, mesh_lines])"
   ]
  },
  {
   "cell_type": "code",
   "execution_count": null,
   "metadata": {},
   "outputs": [],
   "source": []
  },
  {
   "cell_type": "code",
   "execution_count": null,
   "metadata": {},
   "outputs": [],
   "source": [
    "sample = slice_pcd(cyclo_cloud, tree_min_z+1.3, 2.6)\n",
    "cld, ind = sample.remove_statistical_outlier(16, 1.0)\n",
    "inlier_cloud = sample.select_by_index(ind)\n",
    "outlier_cloud = sample.select_by_index(ind, invert=True)\n",
    "outlier_cloud.paint_uniform_color([1,0,0])\n",
    "o3d.visualization.draw_geometries([inlier_cloud, outlier_cloud])"
   ]
  },
  {
   "cell_type": "code",
   "execution_count": null,
   "metadata": {},
   "outputs": [],
   "source": [
    "tree_min_z = cyclo_cloud.get_min_bound()[2]"
   ]
  },
  {
   "cell_type": "code",
   "execution_count": null,
   "metadata": {},
   "outputs": [],
   "source": []
  }
 ],
 "metadata": {
  "kernelspec": {
   "display_name": "Python 3",
   "language": "python",
   "name": "python3"
  },
  "language_info": {
   "codemirror_mode": {
    "name": "ipython",
    "version": 3
   },
   "file_extension": ".py",
   "mimetype": "text/x-python",
   "name": "python",
   "nbconvert_exporter": "python",
   "pygments_lexer": "ipython3",
   "version": "3.10.7 (main, Sep 15 2022, 01:50:27) [Clang 12.0.0 (clang-1200.0.32.29)]"
  },
  "orig_nbformat": 4,
  "vscode": {
   "interpreter": {
    "hash": "aee8b7b246df8f9039afb4144a1f6fd8d2ca17a180786b69acc140d282b71a49"
   }
  }
 },
 "nbformat": 4,
 "nbformat_minor": 2
}
