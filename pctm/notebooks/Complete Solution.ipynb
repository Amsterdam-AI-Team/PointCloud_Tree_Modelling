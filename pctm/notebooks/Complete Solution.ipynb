{
 "cells": [
  {
   "attachments": {},
   "cell_type": "markdown",
   "metadata": {},
   "source": [
    "# Complete Solution\n",
    "\n",
    "This notebook that analyses tree point cloud.\n",
    "\n",
    "---------------"
   ]
  },
  {
   "attachments": {},
   "cell_type": "markdown",
   "metadata": {},
   "source": [
    "##### Imports"
   ]
  },
  {
   "cell_type": "code",
   "execution_count": null,
   "metadata": {},
   "outputs": [],
   "source": [
    "# Uncomment to load the local package rather than the pip-installed version.\n",
    "# Add project src to path.\n",
    "import set_path\n",
    "\n",
    "# Import modules.\n",
    "import os\n",
    "import glob\n",
    "import pathlib\n",
    "import numpy as np\n",
    "import pandas as pd\n",
    "import open3d as o3d\n",
    "from tqdm import tqdm\n",
    "\n",
    "from utils import (  # local source\n",
    "      ahn_utils,\n",
    "      las_utils,\n",
    "      o3d_utils,\n",
    "      tree_utils\n",
    "  )"
   ]
  },
  {
   "cell_type": "code",
   "execution_count": null,
   "metadata": {},
   "outputs": [],
   "source": [
    "# Setup logging\n",
    "import logging\n",
    "logger = logging.getLogger()\n",
    "logger.setLevel(logging.INFO)"
   ]
  },
  {
   "attachments": {},
   "cell_type": "markdown",
   "metadata": {},
   "source": [
    "#### Process File\n",
    "----"
   ]
  },
  {
   "cell_type": "code",
   "execution_count": null,
   "metadata": {},
   "outputs": [],
   "source": [
    "adTree_exe = '../../bin/AdTree'\n",
    "\n",
    "# Load point cloud data. source can be: ahn / cyclo / sonarski\n",
    "las_file = '../../dataset/cyclo/filtered_tree_121913_487434.las'\n",
    "tree_cloud = o3d_utils.read_las(las_file)\n",
    "\n",
    "# surface reconstruction\n",
    "ahn_data_folder = '../../dataset/ahn_surf/'\n",
    "npz_reader = ahn_utils.NPZReader(ahn_data_folder)\n",
    "treecode = las_utils.get_treecode_from_filename(las_file)\n",
    "ground_cloud = o3d.geometry.PointCloud(o3d.utility.Vector3dVector(npz_reader.get_tree_surface(treecode)))"
   ]
  },
  {
   "cell_type": "code",
   "execution_count": null,
   "metadata": {},
   "outputs": [],
   "source": [
    "o3d.visualization.draw_geometries([ground_cloud,tree_cloud])"
   ]
  },
  {
   "cell_type": "code",
   "execution_count": null,
   "metadata": {},
   "outputs": [],
   "source": [
    "# Analyse tree\n",
    "result = tree_utils.process_tree(tree_cloud, ground_cloud, adTree_exe)"
   ]
  },
  {
   "cell_type": "code",
   "execution_count": null,
   "metadata": {},
   "outputs": [],
   "source": [
    "# generate lod\n",
    "r = result[0]\n",
    "lod_3 = tree_utils.generate_LOD_v3(r['DBH']/2, r['stem_basepoint'], r['crown_basepoint'], r['crown_mesh-convex'])\n",
    "o3d_utils.show_mesh(lod_3)"
   ]
  },
  {
   "attachments": {},
   "cell_type": "markdown",
   "metadata": {},
   "source": [
    "#### Process Dataset\n",
    "----"
   ]
  },
  {
   "cell_type": "code",
   "execution_count": null,
   "metadata": {},
   "outputs": [],
   "source": [
    "dataset_folder = '../../dataset/'"
   ]
  },
  {
   "cell_type": "code",
   "execution_count": null,
   "metadata": {},
   "outputs": [],
   "source": [
    "dataset_folder = pathlib.Path(dataset_folder)\n",
    "ahn_data_folder = dataset_folder.joinpath('ahn_surf/')\n",
    "npz_reader = ahn_utils.NPZReader(ahn_data_folder)\n",
    "\n",
    "DATA_KEYS = ['source', 'treecode', 'stem_basepoint', 'tree_height', 'stem_height',\n",
    "             'crown_height', 'crown_baseheight', 'stem_angle', 'DBH', 'CBH',\n",
    "             'crown_shape', 'crown_diameter', 'crown_volume-alpha', 'crown_volume-convex']\n"
   ]
  },
  {
   "cell_type": "code",
   "execution_count": null,
   "metadata": {},
   "outputs": [],
   "source": [
    "file_types = ('.LAS', '.las', '.LAZ', '.laz')\n",
    "files = [f for f in dataset_folder.glob('*/filtered_tree_*')\n",
    "             if f.name.endswith(file_types)]\n",
    "\n",
    "results = []\n",
    "for f in tqdm(files, unit=\"file\",  smoothing=0):\n",
    "    treecode = las_utils.get_treecode_from_filename(f.name)\n",
    "    tree_cloud = o3d_utils.read_las(f)\n",
    "    ground_cloud = npz_reader.get_surface(treecode)\n",
    "\n",
    "    # process\n",
    "    tree_data, _ = tree_utils.process_tree(tree_cloud, ground_cloud, adTree_exe)\n",
    "    tree_data = {key:tree_data[key] for key in tree_data.keys() if key in DATA_KEYS}\n",
    "    tree_data['source'] = f.parent.name\n",
    "    tree_data['treecode'] = treecode\n",
    "\n",
    "    results.append(tree_data)\n",
    "\n",
    "df = pd.DataFrame(results)\n",
    "df.to_csv(dataset_folder.joinpath('results.csv'))"
   ]
  }
 ],
 "metadata": {
  "kernelspec": {
   "display_name": "tree_env",
   "language": "python",
   "name": "tree_env"
  },
  "language_info": {
   "codemirror_mode": {
    "name": "ipython",
    "version": 3
   },
   "file_extension": ".py",
   "mimetype": "text/x-python",
   "name": "python",
   "nbconvert_exporter": "python",
   "pygments_lexer": "ipython3",
   "version": "3.10.7"
  },
  "orig_nbformat": 4,
  "vscode": {
   "interpreter": {
    "hash": "aee8b7b246df8f9039afb4144a1f6fd8d2ca17a180786b69acc140d282b71a49"
   }
  }
 },
 "nbformat": 4,
 "nbformat_minor": 2
}
