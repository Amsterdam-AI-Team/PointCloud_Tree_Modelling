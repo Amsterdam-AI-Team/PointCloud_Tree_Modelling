{
 "cells": [
  {
   "attachments": {},
   "cell_type": "markdown",
   "metadata": {},
   "source": [
    "# Stem Analysis\n",
    "\n",
    "This notebook provides code to analyse and explore point cloud tree stems. As input you can either use an already separated stem point cloud or use a complete tree and use the provided separation code (see `option B` in step 1)\n",
    "\n",
    "---------------"
   ]
  },
  {
   "attachments": {},
   "cell_type": "markdown",
   "metadata": {},
   "source": [
    "##### Imports"
   ]
  },
  {
   "cell_type": "code",
   "execution_count": null,
   "metadata": {},
   "outputs": [],
   "source": [
    "# Add project src to path.\n",
    "import set_path\n",
    "\n",
    "# Import modules.\n",
    "import os\n",
    "import trimesh\n",
    "import numpy as np\n",
    "import open3d as o3d\n",
    "\n",
    "from utils import (\n",
    "      ahn_utils,\n",
    "      las_utils,\n",
    "      tree_utils,\n",
    "      o3d_utils\n",
    "  )\n",
    "from utils.interpolation import FastGridInterpolator\n",
    "from misc.fitcyclinders import fit_vertical_cylinder_3D, show_cylinders\n",
    "\n",
    "from labels import Labels"
   ]
  },
  {
   "attachments": {},
   "cell_type": "markdown",
   "metadata": {},
   "source": [
    "### 1. Load Data\n",
    "---"
   ]
  },
  {
   "attachments": {},
   "cell_type": "markdown",
   "metadata": {},
   "source": [
    "**Option A**: Load stem point cloud"
   ]
  },
  {
   "cell_type": "code",
   "execution_count": null,
   "metadata": {},
   "outputs": [],
   "source": [
    "las_file = '../../dataset/sonarski/stem_121913_487434.las'\n",
    "stem_cloud = o3d_utils.read_las(las_file)"
   ]
  },
  {
   "attachments": {},
   "cell_type": "markdown",
   "metadata": {},
   "source": [
    "**Option B**: Load tree point cloud and separate using `src/utils/tree_utils.py`"
   ]
  },
  {
   "cell_type": "code",
   "execution_count": null,
   "metadata": {},
   "outputs": [],
   "source": [
    "adTree_exe = '../../AdTree/build/bin/AdTree.app/Contents/MacOS/AdTree'\n",
    "\n",
    "# Load point cloud data\n",
    "tree_cloud = o3d_utils.read_las('../../dataset/cyclo/filtered_tree_121913_487434.las')\n",
    "\n",
    "# Separate stem from tree\n",
    "stem_cloud, _ = tree_utils.tree_separate(tree_cloud, adTree_exe)"
   ]
  },
  {
   "cell_type": "code",
   "execution_count": null,
   "metadata": {},
   "outputs": [],
   "source": [
    "o3d.visualization.draw_geometries([stem_cloud])"
   ]
  },
  {
   "attachments": {},
   "cell_type": "markdown",
   "metadata": {},
   "source": [
    "### 2. Stem Analysis\n",
    "---"
   ]
  },
  {
   "attachments": {},
   "cell_type": "markdown",
   "metadata": {},
   "source": [
    "**Fit cyclinders to stem**"
   ]
  },
  {
   "cell_type": "code",
   "execution_count": null,
   "metadata": {},
   "outputs": [],
   "source": [
    "stem_cylinders = tree_utils.fit_cylinders_to_stem(stem_cloud, .25)"
   ]
  },
  {
   "cell_type": "code",
   "execution_count": null,
   "metadata": {},
   "outputs": [],
   "source": [
    "# Visualise stem fit\n",
    "show_cylinders(stem_cylinders, resolution=25, cloud=stem_cloud)"
   ]
  },
  {
   "cell_type": "code",
   "execution_count": null,
   "metadata": {},
   "outputs": [],
   "source": [
    "mesh = o3d_utils.mesh_from_cylinders(stem_cylinders, tree_utils.tree_colors['stem'])\n",
    "o3d_utils.plot_mesh(mesh)"
   ]
  },
  {
   "attachments": {},
   "cell_type": "markdown",
   "metadata": {},
   "source": [
    "**Circumerferential Completness Index (CCI)**\n",
    "\n",
    "CCI is simply the fraction of a circle with point coverage in a stem slice as illustrated below. This provides an indication of how complete your stem coverage is. In a single scan TLS point cloud, you cannot get a CCI greater than 0.5 (assuming the cylinder fitting was not erroneous), as only one side of the tree is mapped. If you have completely scanned the tree (at the measurement location), you should get a CCI of 1.0 (the highest possible CCI).\n",
    "\n",
    "![CCI.jpg](../../imgs/CCI.jpg)\n",
    "\n",
    "The figure is from this paper: https://doi.org/10.3390/rs12101652 if you would like a more detailed explanation of the idea."
   ]
  },
  {
   "cell_type": "code",
   "execution_count": null,
   "metadata": {},
   "outputs": [],
   "source": [
    "stem_CCI = (np.min(stem_cylinders[:,4]), np.max(stem_cylinders[:,4]))\n",
    "print(f\" The minimal and maximal CCI of the scanned stem is {stem_CCI}\")"
   ]
  },
  {
   "attachments": {},
   "cell_type": "markdown",
   "metadata": {},
   "source": [
    "`Diameter at breast height` == 1.3 m"
   ]
  },
  {
   "attachments": {},
   "cell_type": "markdown",
   "metadata": {},
   "source": [
    "**Stem Angle**"
   ]
  },
  {
   "cell_type": "code",
   "execution_count": null,
   "metadata": {},
   "outputs": [],
   "source": [
    "stem_angle = tree_utils.stem_angle(stem_cylinders)\n",
    "print(f\"Stem angle is {stem_angle:.2f} degrees\")"
   ]
  },
  {
   "attachments": {},
   "cell_type": "markdown",
   "metadata": {},
   "source": [
    "**Stem Angle Direciton**"
   ]
  },
  {
   "cell_type": "code",
   "execution_count": null,
   "metadata": {},
   "outputs": [],
   "source": [
    "# Angle to witch the stem is falling towards\n",
    "compas_bearing = tree_utils.stem_bearing(stem_cylinders)\n",
    "print(f\"Stem bearing is {compas_bearing:.2f} degrees\")"
   ]
  },
  {
   "attachments": {},
   "cell_type": "markdown",
   "metadata": {},
   "source": [
    "**Stem Location**"
   ]
  },
  {
   "cell_type": "code",
   "execution_count": null,
   "metadata": {},
   "outputs": [],
   "source": [
    "# Load AHN Surface data\n",
    "ahn_data_folder = '../../dataset/ahn_surf/'\n",
    "npz_reader = ahn_utils.NPZReader(ahn_data_folder)\n",
    "treecode = las_utils.get_treecode_from_filename(las_file)\n",
    "ground_cloud = npz_reader.get_surface(treecode)"
   ]
  },
  {
   "cell_type": "code",
   "execution_count": null,
   "metadata": {},
   "outputs": [],
   "source": [
    "stem_basepoint, crown_basepoint = tree_utils.get_stem_endpoints(stem_cloud, ground_cloud)\n",
    "print(f\"Stem xy location is {np.round(stem_basepoint[:2],2)}\")"
   ]
  },
  {
   "attachments": {},
   "cell_type": "markdown",
   "metadata": {},
   "source": [
    "**Stem Height**"
   ]
  },
  {
   "cell_type": "code",
   "execution_count": null,
   "metadata": {},
   "outputs": [],
   "source": [
    "# estimate stem height\n",
    "stem_height = crown_basepoint[2] - stem_basepoint[2]\n",
    "print(f\"Stem height is {stem_height:.2f}\")"
   ]
  },
  {
   "attachments": {},
   "cell_type": "markdown",
   "metadata": {},
   "source": [
    "**Stem diameter at breastheight**"
   ]
  },
  {
   "cell_type": "code",
   "execution_count": null,
   "metadata": {},
   "outputs": [],
   "source": [
    "breast_height = 1.3\n",
    "dbh = tree_utils.diameter_at_breastheight(stem_cloud, stem_basepoint[2])\n",
    "print(f\"Stem diameter at breast height is {dbh:.2f} m\")"
   ]
  },
  {
   "attachments": {},
   "cell_type": "markdown",
   "metadata": {},
   "source": [
    "**Breast cylinder fit**"
   ]
  },
  {
   "cell_type": "code",
   "execution_count": null,
   "metadata": {},
   "outputs": [],
   "source": [
    "# Breast fit\n",
    "stem_pts = np.asarray(stem_cloud.points)\n",
    "breast_mask = np.where(stem_pts[:,2] < stem_basepoint[2] + breast_height)[0]\n",
    "breast_cloud = stem_cloud.select_by_index(breast_mask)\n",
    "breast_pts = np.array(breast_cloud.points)\n",
    "cyl_center, cyl_axis, cyl_radius = fit_vertical_cylinder_3D(breast_pts, .05)[:3]\n",
    "breast_cylinder = trimesh.creation.cylinder(radius=cyl_radius, sections=20, \n",
    "                        segment=(cyl_center-cyl_axis*breast_height/2, cyl_center+cyl_axis*breast_height/2)).as_open3d\n",
    "\n",
    "o3d_utils.plot_mesh_cloud(breast_cylinder, breast_cloud)"
   ]
  }
 ],
 "metadata": {
  "kernelspec": {
   "display_name": "tree_env",
   "language": "python",
   "name": "tree_env"
  },
  "language_info": {
   "codemirror_mode": {
    "name": "ipython",
    "version": 3
   },
   "file_extension": ".py",
   "mimetype": "text/x-python",
   "name": "python",
   "nbconvert_exporter": "python",
   "pygments_lexer": "ipython3",
   "version": "3.10.7"
  },
  "orig_nbformat": 4,
  "vscode": {
   "interpreter": {
    "hash": "aee8b7b246df8f9039afb4144a1f6fd8d2ca17a180786b69acc140d282b71a49"
   }
  }
 },
 "nbformat": 4,
 "nbformat_minor": 2
}
