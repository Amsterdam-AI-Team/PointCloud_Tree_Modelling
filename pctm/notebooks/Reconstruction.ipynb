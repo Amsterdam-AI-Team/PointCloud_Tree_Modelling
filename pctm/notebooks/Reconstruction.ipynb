{
 "cells": [
  {
   "attachments": {},
   "cell_type": "markdown",
   "metadata": {},
   "source": [
    "# Tree Reconstruction Notebook\n",
    "\n",
    "This notebook provides code to reconstruct the skeleton from a tree point cloud.\n",
    "\n",
    "---------------"
   ]
  },
  {
   "attachments": {},
   "cell_type": "markdown",
   "metadata": {},
   "source": [
    "##### Imports"
   ]
  },
  {
   "cell_type": "code",
   "execution_count": 3,
   "metadata": {},
   "outputs": [],
   "source": [
    "# Add project src to path.\n",
    "import set_path\n",
    "\n",
    "# Import modules.\n",
    "import os\n",
    "import numpy as np\n",
    "import open3d as o3d\n",
    "import logging as log\n",
    "import utils.tree_utils as tree_utils\n",
    "import utils.o3d_utils as o3d_utils\n",
    "\n",
    "from labels import Labels"
   ]
  },
  {
   "attachments": {},
   "cell_type": "markdown",
   "metadata": {},
   "source": [
    "### 1. Load Data\n",
    "---"
   ]
  },
  {
   "attachments": {},
   "cell_type": "markdown",
   "metadata": {},
   "source": [
    "Load tree point cloud"
   ]
  },
  {
   "cell_type": "code",
   "execution_count": 4,
   "metadata": {},
   "outputs": [],
   "source": [
    "tree_cloud = o3d_utils.read_las('../../dataset/cyclo/filtered_tree_121913_487434.las')\n",
    "labels = np.full(len(tree_cloud.points), Labels.WOOD)"
   ]
  },
  {
   "cell_type": "code",
   "execution_count": 5,
   "metadata": {},
   "outputs": [],
   "source": [
    "o3d.visualization.draw_geometries([tree_cloud])"
   ]
  },
  {
   "attachments": {},
   "cell_type": "markdown",
   "metadata": {},
   "source": [
    "Load executable"
   ]
  },
  {
   "cell_type": "code",
   "execution_count": 6,
   "metadata": {},
   "outputs": [],
   "source": [
    "adTree_exe = '../../AdTree/build/bin/AdTree.app/Contents/MacOS/AdTree'"
   ]
  },
  {
   "attachments": {},
   "cell_type": "markdown",
   "metadata": {},
   "source": [
    "### 2. Reconstruction\n",
    "---\n",
    "![Cyclo Media Reconstruction](../../imgs/cyclo_reconstruction.png)"
   ]
  },
  {
   "attachments": {},
   "cell_type": "markdown",
   "metadata": {},
   "source": [
    "**Leaf Wood Classification** (optional)\n",
    "\n",
    "The _method_ parameter in `leafwood_classificiation()` can take the following values:\n",
    "- _'curvature'_\n",
    "- _'survace_variation'_ (default)"
   ]
  },
  {
   "cell_type": "code",
   "execution_count": null,
   "metadata": {},
   "outputs": [],
   "source": [
    "# Leaf woord classification using 'curvature'\n",
    "labels = tree_utils.leafwood_classificiation(tree_cloud, method='curvature')\n",
    "print(f\"Labeled {np.sum(labels==Labels.WOOD)}/{len(labels)} points as wood.\")\n",
    "tree_utils.show_tree(tree_cloud, labels)"
   ]
  },
  {
   "cell_type": "code",
   "execution_count": null,
   "metadata": {},
   "outputs": [],
   "source": [
    "# Leaf woord classification using 'surface_variation'\n",
    "labels = tree_utils.leafwood_classificiation(tree_cloud, method='surface_variation')\n",
    "print(f\"Labeled {np.sum(labels==Labels.WOOD)}/{len(labels)} points as wood.\")\n",
    "tree_utils.show_tree(tree_cloud, labels)"
   ]
  },
  {
   "attachments": {},
   "cell_type": "markdown",
   "metadata": {},
   "source": [
    "**Skeleton Reconstruction**"
   ]
  },
  {
   "cell_type": "code",
   "execution_count": 7,
   "metadata": {},
   "outputs": [],
   "source": [
    "# filter labelled wood from leaves (see previous step)\n",
    "wood_cloud = tree_cloud.select_by_index(np.where(labels==Labels.WOOD)[0])\n",
    "\n",
    "# WARNING: reconstruction might take some minutes.\n",
    "skeleton = tree_utils.reconstruct_skeleton(wood_cloud, adTree_exe)"
   ]
  },
  {
   "cell_type": "code",
   "execution_count": 8,
   "metadata": {},
   "outputs": [],
   "source": [
    "tree_utils.show_tree(tree_cloud, labels, skeleton)"
   ]
  }
 ],
 "metadata": {
  "kernelspec": {
   "display_name": "tree_env",
   "language": "python",
   "name": "tree_env"
  },
  "language_info": {
   "codemirror_mode": {
    "name": "ipython",
    "version": 3
   },
   "file_extension": ".py",
   "mimetype": "text/x-python",
   "name": "python",
   "nbconvert_exporter": "python",
   "pygments_lexer": "ipython3",
   "version": "3.10.7 (main, Sep 15 2022, 01:50:27) [Clang 12.0.0 (clang-1200.0.32.29)]"
  },
  "orig_nbformat": 4,
  "vscode": {
   "interpreter": {
    "hash": "aee8b7b246df8f9039afb4144a1f6fd8d2ca17a180786b69acc140d282b71a49"
   }
  }
 },
 "nbformat": 4,
 "nbformat_minor": 2
}
