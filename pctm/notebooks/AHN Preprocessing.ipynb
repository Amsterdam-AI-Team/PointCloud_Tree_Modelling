{
 "cells": [
  {
   "attachments": {},
   "cell_type": "markdown",
   "id": "c3fd9730-0dc5-4520-a485-b2445c984820",
   "metadata": {},
   "source": [
    "# AHN Preprocessing\n",
    "---\n",
    "A notebook for preprocessing [AHN](https://www.ahn.nl) data."
   ]
  },
  {
   "attachments": {},
   "cell_type": "markdown",
   "id": "e3278c49",
   "metadata": {},
   "source": [
    "#### Imports"
   ]
  },
  {
   "cell_type": "code",
   "execution_count": null,
   "id": "57f542f8-21bf-4382-bfb9-11b11b05802b",
   "metadata": {},
   "outputs": [],
   "source": [
    "# Add project src to path.\n",
    "import set_path\n",
    "\n",
    "# Import modules.\n",
    "from tqdm import tqdm\n",
    "import pathlib\n",
    "import numpy as np\n",
    "import open3d as o3d\n",
    "\n",
    "import preprocessing.ahn_preprocessing as ahn_preprocessing\n",
    "from utils.interpolation import FastGridInterpolator\n",
    "from utils import (\n",
    "    ahn_utils,\n",
    "    las_utils,\n",
    "    math_utils,\n",
    "    o3d_utils\n",
    ")"
   ]
  },
  {
   "attachments": {},
   "cell_type": "markdown",
   "id": "1f5632d4",
   "metadata": {},
   "source": [
    "#### Preprocess Folder\n",
    "---"
   ]
  },
  {
   "cell_type": "code",
   "execution_count": null,
   "id": "124566c7",
   "metadata": {},
   "outputs": [],
   "source": [
    "# define AHN source folder\n",
    "ahn_cloud_folder = '../../../../datasets/AHN/'\n",
    "\n",
    "# define tree dataset folder\n",
    "tree_dataset_folder = '../../dataset/'"
   ]
  },
  {
   "cell_type": "code",
   "execution_count": null,
   "id": "afb71b75",
   "metadata": {},
   "outputs": [],
   "source": [
    "# collect ahn source files\n",
    "ahn_data_folder = pathlib.Path(ahn_cloud_folder)\n",
    "ahn_bboxes = las_utils.get_bbox_from_las_folder(ahn_data_folder)\n",
    "print(f\"- {len(ahn_bboxes)} AHN clouds: {list(ahn_bboxes.keys())}\")"
   ]
  },
  {
   "cell_type": "code",
   "execution_count": null,
   "id": "61b45722",
   "metadata": {},
   "outputs": [],
   "source": [
    "# collect treecodes\n",
    "data_folder = pathlib.Path(tree_dataset_folder)\n",
    "surface_out_folder = data_folder.joinpath('ahn_surf/')\n",
    "file_types = ('.LAS', '.las', '.LAZ', '.laz')\n",
    "treecodes = set([las_utils.get_treecode_from_filename(f.name) for f in data_folder.glob('*/filtered_tree_*')\n",
    "             if f.name.endswith(file_types)])\n",
    "print(f\"- {len(treecodes)} treecodes\")\n"
   ]
  },
  {
   "cell_type": "code",
   "execution_count": null,
   "id": "8d8169ec",
   "metadata": {},
   "outputs": [],
   "source": [
    "# group trees per AHN file\n",
    "treecodes_ahn = {key: [] for key in ahn_bboxes.keys()}\n",
    "for treecode in treecodes:\n",
    "    bbox = las_utils.get_bbox_from_tree_code(treecode, 10)\n",
    "    for ahn_file, ahn_bbox in ahn_bboxes.items():\n",
    "        if math_utils.bbox_in_bbox(bbox, ahn_bbox):\n",
    "            treecodes_ahn[ahn_file].append(treecode)\n",
    "            break\n",
    "\n",
    "treecodes_ahn"
   ]
  },
  {
   "cell_type": "code",
   "execution_count": null,
   "id": "db79d05e",
   "metadata": {},
   "outputs": [],
   "source": [
    "# Preprocess all treecodes\n",
    "# WARNING: this may require 16+ GB of RAM, depending on the size of the clouda.\n",
    "# WARNING: this may significant amount of time.\n",
    "for ahn_file, treecodes in treecodes_ahn.items():\n",
    "    print(ahn_file)\n",
    "    if len(treecodes) > 0:\n",
    "        ahn_cloud = las_utils.read_las(ahn_data_folder.joinpath(ahn_file))\n",
    "        ahn_preprocessing.clip_ahn_treecodes(ahn_cloud, treecodes, surface_out_folder, buffer=10)"
   ]
  }
 ],
 "metadata": {
  "kernelspec": {
   "display_name": "tree_env",
   "language": "python",
   "name": "tree_env"
  },
  "language_info": {
   "codemirror_mode": {
    "name": "ipython",
    "version": 3
   },
   "file_extension": ".py",
   "mimetype": "text/x-python",
   "name": "python",
   "nbconvert_exporter": "python",
   "pygments_lexer": "ipython3",
   "version": "3.10.7"
  }
 },
 "nbformat": 4,
 "nbformat_minor": 5
}
