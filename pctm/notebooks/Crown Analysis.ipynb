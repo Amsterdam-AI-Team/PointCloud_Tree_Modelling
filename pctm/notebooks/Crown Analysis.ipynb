{
 "cells": [
  {
   "attachments": {},
   "cell_type": "markdown",
   "metadata": {},
   "source": [
    "# Crown Analysis\n",
    "\n",
    "This notebook provides code to analyse and explore point cloud tree crowns. As input you can either use an already separated crown point cloud or use a complete tree and use the provided separation code (see `option B` in step 1)\n",
    "\n",
    "---------------"
   ]
  },
  {
   "attachments": {},
   "cell_type": "markdown",
   "metadata": {},
   "source": [
    "#### Imports"
   ]
  },
  {
   "cell_type": "code",
   "execution_count": null,
   "metadata": {},
   "outputs": [],
   "source": [
    "# Add project src to path.\n",
    "import set_path\n",
    "\n",
    "# Import modules.\n",
    "import os\n",
    "import numpy as np\n",
    "import open3d as o3d\n",
    "\n",
    "from utils import (\n",
    "      ahn_utils,\n",
    "      las_utils,\n",
    "      tree_utils,\n",
    "      o3d_utils\n",
    "  )\n",
    "from utils.interpolation import FastGridInterpolator\n",
    "\n",
    "from labels import Labels\n",
    "from config import Paths"
   ]
  },
  {
   "cell_type": "code",
   "execution_count": null,
   "metadata": {},
   "outputs": [],
   "source": [
    "# Setup logging\n",
    "import logging\n",
    "logger = logging.getLogger()\n",
    "logger.setLevel(logging.INFO)"
   ]
  },
  {
   "attachments": {},
   "cell_type": "markdown",
   "metadata": {},
   "source": [
    "### 1. Load Data\n",
    "---"
   ]
  },
  {
   "attachments": {},
   "cell_type": "markdown",
   "metadata": {},
   "source": [
    "**Option A**: Load crown point cloud"
   ]
  },
  {
   "cell_type": "code",
   "execution_count": null,
   "metadata": {},
   "outputs": [],
   "source": [
    "las_file = '../../dataset/sonarski/crown_121913_487434.las'\n",
    "crown_cloud = o3d_utils.read_las(las_file)"
   ]
  },
  {
   "attachments": {},
   "cell_type": "markdown",
   "metadata": {},
   "source": [
    "**Option B**: Load tree point cloud and separate using `src/utils/tree_utils.py`"
   ]
  },
  {
   "cell_type": "code",
   "execution_count": null,
   "metadata": {},
   "outputs": [],
   "source": [
    "adTree_exe = Paths.get_adtree()\n",
    "\n",
    "# Load point cloud data\n",
    "las_file = '../../dataset/cyclo/filtered_tree_121913_487434.las'\n",
    "tree_cloud = o3d_utils.read_las(las_file)\n",
    "\n",
    "# Separate crown from stem\n",
    "stem_cloud, crown_cloud = tree_utils.tree_separate(tree_cloud, adTree_exe)"
   ]
  },
  {
   "attachments": {},
   "cell_type": "markdown",
   "metadata": {},
   "source": [
    "### 2. Crown Analysis\n",
    "---"
   ]
  },
  {
   "attachments": {},
   "cell_type": "markdown",
   "metadata": {},
   "source": [
    "**Corwn Dimensions**"
   ]
  },
  {
   "cell_type": "code",
   "execution_count": null,
   "metadata": {},
   "outputs": [],
   "source": [
    "# estimate crown center\n",
    "crown_center = crown_cloud.get_center()[:2]\n",
    "\n",
    "# estimate crown height\n",
    "crown_height = tree_utils.crown_height(crown_cloud)\n",
    "print(f\"Crown height is {crown_height:.2f} m\")\n",
    "\n",
    "# estimate crown diameter\n",
    "crown_diameter = tree_utils.crown_diameter(crown_cloud)\n",
    "print(f\"Crown diameter is {crown_diameter:.2f} m\")"
   ]
  },
  {
   "attachments": {},
   "cell_type": "markdown",
   "metadata": {},
   "source": [
    "**Crown distance to surface**"
   ]
  },
  {
   "cell_type": "code",
   "execution_count": null,
   "metadata": {},
   "outputs": [],
   "source": [
    "# Load AHN Surface data\n",
    "ahn_data_folder = '../../dataset/ahn_surf/'\n",
    "npz_reader = ahn_utils.NPZReader(ahn_data_folder)\n",
    "treecode = las_utils.get_treecode_from_filename(las_file)\n",
    "ahn_tile = npz_reader.filter_file(treecode)\n",
    "\n",
    "# Estimate ahn_z\n",
    "fast_z = FastGridInterpolator(ahn_tile['x'], ahn_tile['y'],\n",
    "                                    ahn_tile['ground_surface'])\n",
    "tree_ahn_z = fast_z(crown_center.reshape(1,2))[0]\n",
    "\n",
    "\n",
    "crown_base_height = tree_utils.crown_base_height(crown_cloud, tree_ahn_z)\n",
    "print(f\"Crown distance to surface is {crown_base_height:.2f} m\")"
   ]
  },
  {
   "attachments": {},
   "cell_type": "markdown",
   "metadata": {},
   "source": [
    "**Crown Shape**"
   ]
  },
  {
   "cell_type": "code",
   "execution_count": null,
   "metadata": {},
   "outputs": [],
   "source": [
    "# estimate crown shape (conical, inverse-conical, spherical, or cylindrical)\n",
    "crown_shape = tree_utils.crown_shape(crown_cloud)\n",
    "print(f\"Crown shape is `{crown_shape}`\")"
   ]
  },
  {
   "attachments": {},
   "cell_type": "markdown",
   "metadata": {},
   "source": [
    "**3D Crown Modelling**\n",
    "\n",
    "The _method_ parameter in `crown_to_mesh()` can take the following values:\n",
    "- _'convex_hull'_\n",
    "- _'alphashape'_ (slow, but more accurate)"
   ]
  },
  {
   "cell_type": "code",
   "execution_count": null,
   "metadata": {},
   "outputs": [],
   "source": [
    "# 3D crown modelling using 'convex_hull'\n",
    "crown_mesh_hull, volume = tree_utils.crown_to_mesh(crown_cloud, method='convex_hull')\n",
    "print(f\"Crown volume is {crown_mesh_hull.get_volume():.2f} m3\")\n",
    "o3d_utils.plot_mesh(crown_mesh_hull)"
   ]
  },
  {
   "cell_type": "code",
   "execution_count": null,
   "metadata": {},
   "outputs": [],
   "source": [
    "# 3D crown modelling using 'alphashape'\n",
    "crown_mesh_alpha, volume = tree_utils.crown_to_mesh(crown_cloud, method='alphashape')\n",
    "print(f\"Crown volume is {crown_mesh_alpha.get_volume():.2f} m3\")\n",
    "o3d_utils.plot_mesh(crown_mesh_alpha)"
   ]
  },
  {
   "cell_type": "code",
   "execution_count": null,
   "metadata": {},
   "outputs": [],
   "source": [
    "# interactive show mesh with cloud\n",
    "o3d_utils.show_mesh_cloud(crown_mesh_hull, crown_cloud)"
   ]
  },
  {
   "attachments": {},
   "cell_type": "markdown",
   "metadata": {},
   "source": [
    "![convex_hull.png](../../imgs/crown_mesh_comparison.png)"
   ]
  }
 ],
 "metadata": {
  "kernelspec": {
   "display_name": "tree_env",
   "language": "python",
   "name": "tree_env"
  },
  "language_info": {
   "codemirror_mode": {
    "name": "ipython",
    "version": 3
   },
   "file_extension": ".py",
   "mimetype": "text/x-python",
   "name": "python",
   "nbconvert_exporter": "python",
   "pygments_lexer": "ipython3",
   "version": "3.10.7"
  },
  "orig_nbformat": 4,
  "vscode": {
   "interpreter": {
    "hash": "aee8b7b246df8f9039afb4144a1f6fd8d2ca17a180786b69acc140d282b71a49"
   }
  }
 },
 "nbformat": 4,
 "nbformat_minor": 2
}
